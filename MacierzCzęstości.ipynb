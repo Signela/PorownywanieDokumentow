{
 "cells": [
  {
   "cell_type": "code",
   "execution_count": 20,
   "metadata": {},
   "outputs": [],
   "source": [
    "import cx_Oracle\n",
    "import os"
   ]
  },
  {
   "cell_type": "code",
   "execution_count": 21,
   "metadata": {},
   "outputs": [],
   "source": [
    "os.environ[\"NLS_LANG\"] = \"POLISH_POLAND.AL32UTF8\"\n",
    "connection = cx_Oracle.connect(\"C##PPAWLUK\", \"#Lex2018\", \"144.21.89.60:1521/ORCL.591263988.oraclecloud.internal\")"
   ]
  },
  {
   "cell_type": "code",
   "execution_count": 22,
   "metadata": {},
   "outputs": [],
   "source": [
    "cur = connection.cursor()"
   ]
  },
  {
   "cell_type": "code",
   "execution_count": 23,
   "metadata": {},
   "outputs": [],
   "source": [
    "cur.execute('DELETE FROM \"C##PPAWLUK\".\"TEMAT_DOKUMENTU\"')\n",
    "cur.execute('commit')"
   ]
  },
  {
   "cell_type": "code",
   "execution_count": 24,
   "metadata": {},
   "outputs": [],
   "source": [
    "dokumentsName = cur.execute('select distinct nazwa_dokumentu from dokument')"
   ]
  },
  {
   "cell_type": "code",
   "execution_count": 25,
   "metadata": {},
   "outputs": [],
   "source": [
    "names = []"
   ]
  },
  {
   "cell_type": "code",
   "execution_count": 26,
   "metadata": {},
   "outputs": [],
   "source": [
    "for dokument in dokumentsName:\n",
    "    names.append(dokument[0])"
   ]
  },
  {
   "cell_type": "code",
   "execution_count": 27,
   "metadata": {},
   "outputs": [],
   "source": [
    "dokumentsText = []"
   ]
  },
  {
   "cell_type": "code",
   "execution_count": 28,
   "metadata": {},
   "outputs": [],
   "source": [
    "j = 0\n",
    "for name in names:\n",
    "    dokumentsText.append({'name': name, 'text': ''})\n",
    "    text = cur.execute('select tekst from dokument where nazwa_dokumentu = \\'{}\\''.format(name))\n",
    "    for t in text:\n",
    "        dokumentsText[j]['text'] = dokumentsText[j]['text'] + t[0]\n",
    "    j = j + 1"
   ]
  },
  {
   "cell_type": "code",
   "execution_count": 29,
   "metadata": {},
   "outputs": [],
   "source": [
    "allTekst = ''"
   ]
  },
  {
   "cell_type": "code",
   "execution_count": 30,
   "metadata": {},
   "outputs": [],
   "source": [
    "for z in dokumentsText:\n",
    "    allTekst = allTekst + z['text']"
   ]
  },
  {
   "cell_type": "code",
   "execution_count": 31,
   "metadata": {},
   "outputs": [],
   "source": [
    "allTekst = allTekst.split(' ')\n",
    "allTekst.remove('')\n",
    "allTekst = list(set(allTekst))"
   ]
  },
  {
   "cell_type": "code",
   "execution_count": 32,
   "metadata": {},
   "outputs": [],
   "source": [
    "matrix = []"
   ]
  },
  {
   "cell_type": "code",
   "execution_count": 33,
   "metadata": {},
   "outputs": [],
   "source": [
    "for word in allTekst:\n",
    "    for dokument in names:\n",
    "        matrix.append({\"name\":dokument,\"word\": word,'frequency':0})"
   ]
  },
  {
   "cell_type": "code",
   "execution_count": 34,
   "metadata": {},
   "outputs": [],
   "source": [
    "for dokument in dokumentsText:\n",
    "    text = dokument['text']\n",
    "    text = text.split(' ')\n",
    "    text.remove('')\n",
    "    for m in matrix:\n",
    "        if(m['name'] == dokument['name']):\n",
    "            m['frequency'] = text.count(m['word'])"
   ]
  },
  {
   "cell_type": "code",
   "execution_count": 35,
   "metadata": {},
   "outputs": [],
   "source": [
    "def themaDoc(matrix,nameDoc):\n",
    "    tmpMatrix = []\n",
    "    for m in matrix:\n",
    "        if(m['name'] == nameDoc and m['frequency'] > 1):\n",
    "            tmpMatrix.append(m)\n",
    "    sortMatrix = sorted(tmpMatrix, key=lambda x: x['frequency'],reverse=True)\n",
    "    size = 10\n",
    "    if( len(sortMatrix) < size):\n",
    "        size = len(sortMatrix)\n",
    "    tematy = ''\n",
    "    for i in range(0,size,1):\n",
    "         tematy = tematy + ' ' + sortMatrix[i]['word']\n",
    "    cur.execute(\n",
    "        'INSERT INTO \"C##PPAWLUK\".\"TEMAT_DOKUMENTU\" (NAZWA_DOKUMENTU, TEMATY) VALUES( \\'{}\\', \\'{}\\')'.format(\n",
    "            nameDoc, tematy))"
   ]
  },
  {
   "cell_type": "code",
   "execution_count": 36,
   "metadata": {},
   "outputs": [],
   "source": [
    "for name in names:\n",
    "    themaDoc(matrix,name)"
   ]
  },
  {
   "cell_type": "code",
   "execution_count": 37,
   "metadata": {},
   "outputs": [],
   "source": [
    "cur.execute('commit')"
   ]
  },
  {
   "cell_type": "code",
   "execution_count": 38,
   "metadata": {},
   "outputs": [],
   "source": [
    "cur.close()\n",
    "connection.close()"
   ]
  },
  {
   "cell_type": "code",
   "execution_count": null,
   "metadata": {},
   "outputs": [],
   "source": []
  }
 ],
 "metadata": {
  "kernelspec": {
   "display_name": "Python 3",
   "language": "python",
   "name": "python3"
  },
  "language_info": {
   "codemirror_mode": {
    "name": "ipython",
    "version": 3
   },
   "file_extension": ".py",
   "mimetype": "text/x-python",
   "name": "python",
   "nbconvert_exporter": "python",
   "pygments_lexer": "ipython3",
   "version": "3.7.0"
  }
 },
 "nbformat": 4,
 "nbformat_minor": 2
}
