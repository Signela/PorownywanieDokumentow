{
 "cells": [
  {
   "cell_type": "code",
   "execution_count": 1,
   "metadata": {},
   "outputs": [],
   "source": [
    "import cx_Oracle\n",
    "import os"
   ]
  },
  {
   "cell_type": "code",
   "execution_count": 2,
   "metadata": {},
   "outputs": [],
   "source": [
    "os.environ[\"NLS_LANG\"] = \"POLISH_POLAND.AL32UTF8\"\n",
    "connection = cx_Oracle.connect(\"C##PPAWLUK\", \"#Lex2018\", \"144.21.89.60:1521/ORCL.591263988.oraclecloud.internal\")"
   ]
  },
  {
   "cell_type": "code",
   "execution_count": 3,
   "metadata": {},
   "outputs": [],
   "source": [
    "cur = connection.cursor()"
   ]
  },
  {
   "cell_type": "code",
   "execution_count": 4,
   "metadata": {},
   "outputs": [],
   "source": [
    "cur.execute('DELETE FROM \"C##PPAWLUK\".\"TEMAT_DOKUMENTU\"')\n",
    "cur.execute('commit')"
   ]
  },
  {
   "cell_type": "code",
   "execution_count": 5,
   "metadata": {},
   "outputs": [],
   "source": [
    "dokumentsName = cur.execute('select distinct nazwa_dokumentu from dokument')"
   ]
  },
  {
   "cell_type": "code",
   "execution_count": 6,
   "metadata": {},
   "outputs": [],
   "source": [
    "names = []"
   ]
  },
  {
   "cell_type": "code",
   "execution_count": 7,
   "metadata": {},
   "outputs": [],
   "source": [
    "for dokument in dokumentsName:\n",
    "    names.append(dokument[0])"
   ]
  },
  {
   "cell_type": "code",
   "execution_count": 8,
   "metadata": {},
   "outputs": [],
   "source": [
    "dokumentsText = []"
   ]
  },
  {
   "cell_type": "code",
   "execution_count": 9,
   "metadata": {},
   "outputs": [],
   "source": [
    "j = 0\n",
    "for name in names:\n",
    "    dokumentsText.append({'name': name, 'text': ''})\n",
    "    text = cur.execute('select tekst from dokument where nazwa_dokumentu = \\'{}\\''.format(name))\n",
    "    for t in text:\n",
    "        dokumentsText[j]['text'] = dokumentsText[j]['text'] + t[0]\n",
    "    j = j + 1"
   ]
  },
  {
   "cell_type": "code",
   "execution_count": 10,
   "metadata": {},
   "outputs": [],
   "source": [
    "allTekst = ''"
   ]
  },
  {
   "cell_type": "code",
   "execution_count": 11,
   "metadata": {},
   "outputs": [],
   "source": [
    "for z in dokumentsText:\n",
    "    allTekst = allTekst + z['text']"
   ]
  },
  {
   "cell_type": "code",
   "execution_count": 12,
   "metadata": {},
   "outputs": [],
   "source": [
    "allTekst = allTekst.split(' ')\n",
    "allTekst.remove('')\n",
    "allTekst = list(set(allTekst))"
   ]
  },
  {
   "cell_type": "code",
   "execution_count": 13,
   "metadata": {},
   "outputs": [],
   "source": [
    "matrix = []"
   ]
  },
  {
   "cell_type": "code",
   "execution_count": 14,
   "metadata": {},
   "outputs": [],
   "source": [
    "for word in allTekst:\n",
    "    for dokument in names:\n",
    "        matrix.append({\"name\":dokument,\"word\": word,'frequency':0})"
   ]
  },
  {
   "cell_type": "code",
   "execution_count": 15,
   "metadata": {},
   "outputs": [],
   "source": [
    "for dokument in dokumentsText:\n",
    "    text = dokument['text']\n",
    "    text = text.split(' ')\n",
    "    text.remove('')\n",
    "    for m in matrix:\n",
    "        if(m['name'] == dokument['name']):\n",
    "            m['frequency'] = text.count(m['word'])"
   ]
  },
  {
   "cell_type": "code",
   "execution_count": 16,
   "metadata": {},
   "outputs": [],
   "source": [
    "def themaDoc(matrix,nameDoc):\n",
    "    tmpMatrix = []\n",
    "    sum = 0\n",
    "    for m in matrix:\n",
    "        if(m['name'] == nameDoc):\n",
    "            sum = sum + m['frequency']\n",
    "            if(m['frequency'] > 1):\n",
    "                tmpMatrix.append(m)\n",
    "    sortMatrix = sorted(tmpMatrix, key=lambda x: x['frequency'],reverse=True)\n",
    "    size = 10\n",
    "    if( len(sortMatrix) < size):\n",
    "        size = len(sortMatrix)\n",
    "    tematy = ''\n",
    "    for i in range(0,size,1):\n",
    "        tematy = tematy + ' ' + sortMatrix[i]['word'] + ' ' + '{:.2f}%'.format((float(sortMatrix[i]['frequency'])/float(sum))*100)+','\n",
    "        print(\"{} {:.2f}%\".format(sortMatrix[i] ,(float(sortMatrix[i]['frequency'])/float(sum))*100))\n",
    "    cur.execute('INSERT INTO \"C##PPAWLUK\".\"TEMAT_DOKUMENTU\" (NAZWA_DOKUMENTU, TEMATY) VALUES( \\'{}\\', \\'{}\\')'.format(nameDoc,tematy))\n",
    "    return sortMatrix"
   ]
  },
  {
   "cell_type": "code",
   "execution_count": 17,
   "metadata": {},
   "outputs": [
    {
     "name": "stdout",
     "output_type": "stream",
     "text": [
      "{'name': 'D20181943.txt', 'word': 'sztandar', 'frequency': 17} 3.39%\n",
      "{'name': 'D20181943.txt', 'word': 'centymetr', 'frequency': 15} 2.99%\n",
      "{'name': 'D20181943.txt', 'word': 'załącznik', 'frequency': 14} 2.79%\n",
      "{'name': 'D20181943.txt', 'word': 'rozporządzenie', 'frequency': 14} 2.79%\n",
      "{'name': 'D20181943.txt', 'word': 'rok', 'frequency': 12} 2.40%\n",
      "{'name': 'D20181943.txt', 'word': 'strona', 'frequency': 12} 2.40%\n",
      "{'name': 'D20181943.txt', 'word': 'kolor', 'frequency': 11} 2.20%\n",
      "{'name': 'D20181943.txt', 'word': 'płat', 'frequency': 11} 2.20%\n",
      "{'name': 'D20181943.txt', 'word': 'pozycja', 'frequency': 10} 2.00%\n",
      "{'name': 'D20181943.txt', 'word': 'numer', 'frequency': 10} 2.00%\n",
      "{'name': 'D20181937.txt', 'word': 'artykuł', 'frequency': 15} 7.77%\n",
      "{'name': 'D20181937.txt', 'word': 'postępowanie', 'frequency': 10} 5.18%\n",
      "{'name': 'D20181937.txt', 'word': 'rok', 'frequency': 9} 4.66%\n",
      "{'name': 'D20181937.txt', 'word': 'dzień', 'frequency': 8} 4.15%\n",
      "{'name': 'D20181937.txt', 'word': 'ustawa', 'frequency': 8} 4.15%\n",
      "{'name': 'D20181937.txt', 'word': 'pozycja', 'frequency': 6} 3.11%\n",
      "{'name': 'D20181937.txt', 'word': 'usta', 'frequency': 6} 3.11%\n",
      "{'name': 'D20181937.txt', 'word': 'kodeks', 'frequency': 6} 3.11%\n",
      "{'name': 'D20181937.txt', 'word': 'karny', 'frequency': 6} 3.11%\n",
      "{'name': 'D20181937.txt', 'word': 'konstytucyjny', 'frequency': 5} 2.59%\n",
      "{'name': 'D20181947.txt', 'word': 'bar', 'frequency': 92} 6.47%\n",
      "{'name': 'D20181947.txt', 'word': 'morski', 'frequency': 40} 2.81%\n",
      "{'name': 'D20181947.txt', 'word': 'hydrograficzny', 'frequency': 34} 2.39%\n",
      "{'name': 'D20181947.txt', 'word': 'szkolenie', 'frequency': 30} 2.11%\n",
      "{'name': 'D20181947.txt', 'word': 'hydrograf', 'frequency': 26} 1.83%\n",
      "{'name': 'D20181947.txt', 'word': 'kategoria', 'frequency': 19} 1.34%\n",
      "{'name': 'D20181947.txt', 'word': 'system', 'frequency': 19} 1.34%\n",
      "{'name': 'D20181947.txt', 'word': 'dyplom', 'frequency': 18} 1.26%\n",
      "{'name': 'D20181947.txt', 'word': 'praca', 'frequency': 18} 1.26%\n",
      "{'name': 'D20181947.txt', 'word': 'ustawa', 'frequency': 15} 1.05%\n",
      "{'name': 'D20181950.txt', 'word': 'administracja', 'frequency': 10} 3.24%\n",
      "{'name': 'D20181950.txt', 'word': 'załącznik', 'frequency': 8} 2.59%\n",
      "{'name': 'D20181950.txt', 'word': 'wydatek', 'frequency': 8} 2.59%\n",
      "{'name': 'D20181950.txt', 'word': 'budżet', 'frequency': 7} 2.27%\n",
      "{'name': 'D20181950.txt', 'word': 'przeniesienie', 'frequency': 7} 2.27%\n",
      "{'name': 'D20181950.txt', 'word': 'państwo', 'frequency': 7} 2.27%\n",
      "{'name': 'D20181950.txt', 'word': 'numer', 'frequency': 6} 1.94%\n",
      "{'name': 'D20181950.txt', 'word': 'planować', 'frequency': 6} 1.94%\n",
      "{'name': 'D20181950.txt', 'word': 'rozporządzenie', 'frequency': 6} 1.94%\n",
      "{'name': 'D20181950.txt', 'word': 'dzień', 'frequency': 6} 1.94%\n"
     ]
    }
   ],
   "source": [
    "tmpM = []\n",
    "for name in names:\n",
    "    tmpM.append(themaDoc(matrix,name))"
   ]
  },
  {
   "cell_type": "code",
   "execution_count": 18,
   "metadata": {},
   "outputs": [
    {
     "name": "stdout",
     "output_type": "stream",
     "text": [
      "[{'name': 'D20181943.txt', 'word': 'sztandar', 'frequency': 17}, {'name': 'D20181943.txt', 'word': 'centymetr', 'frequency': 15}, {'name': 'D20181943.txt', 'word': 'załącznik', 'frequency': 14}, {'name': 'D20181943.txt', 'word': 'rozporządzenie', 'frequency': 14}, {'name': 'D20181943.txt', 'word': 'rok', 'frequency': 12}, {'name': 'D20181943.txt', 'word': 'strona', 'frequency': 12}, {'name': 'D20181943.txt', 'word': 'kolor', 'frequency': 11}, {'name': 'D20181943.txt', 'word': 'płat', 'frequency': 11}, {'name': 'D20181943.txt', 'word': 'pozycja', 'frequency': 10}, {'name': 'D20181943.txt', 'word': 'numer', 'frequency': 10}, {'name': 'D20181943.txt', 'word': 'sprawa', 'frequency': 10}, {'name': 'D20181943.txt', 'word': 'dziennik', 'frequency': 10}, {'name': 'D20181943.txt', 'word': 'państwowy', 'frequency': 9}, {'name': 'D20181943.txt', 'word': 'wewnętrzny', 'frequency': 7}, {'name': 'D20181943.txt', 'word': 'jednostka', 'frequency': 7}, {'name': 'D20181943.txt', 'word': 'dzień', 'frequency': 7}, {'name': 'D20181943.txt', 'word': 'minister', 'frequency': 7}, {'name': 'D20181943.txt', 'word': 'złoty', 'frequency': 7}, {'name': 'D20181943.txt', 'word': 'godło', 'frequency': 6}, {'name': 'D20181943.txt', 'word': 'wzór', 'frequency': 6}, {'name': 'D20181943.txt', 'word': 'ustawa', 'frequency': 6}, {'name': 'D20181943.txt', 'word': 'odwrotny', 'frequency': 5}, {'name': 'D20181943.txt', 'word': 'administracja', 'frequency': 5}, {'name': 'D20181943.txt', 'word': 'główny', 'frequency': 5}, {'name': 'D20181943.txt', 'word': 'pożarny', 'frequency': 5}, {'name': 'D20181943.txt', 'word': 'brzmienie', 'frequency': 5}, {'name': 'D20181943.txt', 'word': 'szerokość', 'frequency': 5}, {'name': 'D20181943.txt', 'word': 'określić', 'frequency': 5}, {'name': 'D20181943.txt', 'word': 'drzewce', 'frequency': 5}, {'name': 'D20181943.txt', 'word': 'straż', 'frequency': 5}, {'name': 'D20181943.txt', 'word': 'róg', 'frequency': 4}, {'name': 'D20181943.txt', 'word': 'wykonać', 'frequency': 4}, {'name': 'D20181943.txt', 'word': 'wizerunek', 'frequency': 4}, {'name': 'D20181943.txt', 'word': 'nr', 'frequency': 4}, {'name': 'D20181943.txt', 'word': 'otrzymywać', 'frequency': 4}, {'name': 'D20181943.txt', 'word': 'umieścić', 'frequency': 4}, {'name': 'D20181943.txt', 'word': 'krzyż', 'frequency': 4}, {'name': 'D20181943.txt', 'word': 'napis', 'frequency': 4}, {'name': 'D20181943.txt', 'word': 'wysokość', 'frequency': 4}, {'name': 'D20181943.txt', 'word': 'długość', 'frequency': 4}, {'name': 'D20181943.txt', 'word': 'kształt', 'frequency': 3}, {'name': 'D20181943.txt', 'word': 'wrzesień', 'frequency': 3}, {'name': 'D20181943.txt', 'word': 'egzystencja', 'frequency': 3}, {'name': 'D20181943.txt', 'word': 'alba', 'frequency': 3}, {'name': 'D20181943.txt', 'word': 'bycie', 'frequency': 3}, {'name': 'D20181943.txt', 'word': 'bóg', 'frequency': 3}, {'name': 'D20181943.txt', 'word': 'niniejszy', 'frequency': 3}, {'name': 'D20181943.txt', 'word': 'święty', 'frequency': 3}, {'name': 'D20181943.txt', 'word': 'dolny', 'frequency': 3}, {'name': 'D20181943.txt', 'word': 'móc', 'frequency': 3}, {'name': 'D20181943.txt', 'word': 'umieszczać', 'frequency': 3}, {'name': 'D20181943.txt', 'word': 'metalowy', 'frequency': 3}, {'name': 'D20181943.txt', 'word': 'organizacyjny', 'frequency': 3}, {'name': 'D20181943.txt', 'word': 'ojczyzna', 'frequency': 3}, {'name': 'D20181943.txt', 'word': 'ustaw', 'frequency': 2}, {'name': 'D20181943.txt', 'word': 'biały', 'frequency': 2}, {'name': 'D20181943.txt', 'word': 'wynosić', 'frequency': 2}, {'name': 'D20181943.txt', 'word': 'średnica', 'frequency': 2}, {'name': 'D20181943.txt', 'word': 'styczeń', 'frequency': 2}, {'name': 'D20181943.txt', 'word': 'ramię', 'frequency': 2}, {'name': 'D20181943.txt', 'word': 'koło', 'frequency': 2}, {'name': 'D20181943.txt', 'word': 'określenie', 'frequency': 2}, {'name': 'D20181943.txt', 'word': 'następować', 'frequency': 2}, {'name': 'D20181943.txt', 'word': 'krawędź', 'frequency': 2}, {'name': 'D20181943.txt', 'word': 'nadanie', 'frequency': 2}, {'name': 'D20181943.txt', 'word': 'częsty', 'frequency': 2}, {'name': 'D20181943.txt', 'word': 'usta', 'frequency': 2}, {'name': 'D20181943.txt', 'word': 'honor', 'frequency': 2}, {'name': 'D20181943.txt', 'word': 'zbliżony', 'frequency': 2}, {'name': 'D20181943.txt', 'word': 'rzeczpospolita', 'frequency': 2}, {'name': 'D20181943.txt', 'word': 'metr', 'frequency': 2}, {'name': 'D20181943.txt', 'word': 'tryb', 'frequency': 2}, {'name': 'D20181943.txt', 'word': 'poz', 'frequency': 2}, {'name': 'D20181943.txt', 'word': 'znajdować', 'frequency': 2}, {'name': 'D20181943.txt', 'word': 'nadawanie', 'frequency': 2}, {'name': 'D20181943.txt', 'word': 'podstawa', 'frequency': 2}, {'name': 'D20181943.txt', 'word': 'zmieniać', 'frequency': 2}, {'name': 'D20181943.txt', 'word': 'polski', 'frequency': 2}, {'name': 'D20181943.txt', 'word': 'w', 'frequency': 2}, {'name': 'D20181943.txt', 'word': 'górny', 'frequency': 2}, {'name': 'D20181943.txt', 'word': 'nazwa', 'frequency': 2}, {'name': 'D20181943.txt', 'word': 'wieniec', 'frequency': 2}, {'name': 'D20181943.txt', 'word': 'emisja', 'frequency': 2}, {'name': 'D20181943.txt', 'word': 'litera', 'frequency': 2}]\n",
      "[{'name': 'D20181937.txt', 'word': 'artykuł', 'frequency': 15}, {'name': 'D20181937.txt', 'word': 'postępowanie', 'frequency': 10}, {'name': 'D20181937.txt', 'word': 'rok', 'frequency': 9}, {'name': 'D20181937.txt', 'word': 'dzień', 'frequency': 8}, {'name': 'D20181937.txt', 'word': 'ustawa', 'frequency': 8}, {'name': 'D20181937.txt', 'word': 'pozycja', 'frequency': 6}, {'name': 'D20181937.txt', 'word': 'usta', 'frequency': 6}, {'name': 'D20181937.txt', 'word': 'kodeks', 'frequency': 6}, {'name': 'D20181937.txt', 'word': 'karny', 'frequency': 6}, {'name': 'D20181937.txt', 'word': 'konstytucyjny', 'frequency': 5}, {'name': 'D20181937.txt', 'word': 'dziennik', 'frequency': 5}, {'name': 'D20181937.txt', 'word': 'trybunał', 'frequency': 4}, {'name': 'D20181937.txt', 'word': 'październik', 'frequency': 3}, {'name': 'D20181937.txt', 'word': 'punkt', 'frequency': 3}, {'name': 'D20181937.txt', 'word': 'tuleja', 'frequency': 3}, {'name': 'D20181937.txt', 'word': 'czerwiec', 'frequency': 3}, {'name': 'D20181937.txt', 'word': 'zakres', 'frequency': 3}, {'name': 'D20181937.txt', 'word': 'skarga', 'frequency': 3}, {'name': 'D20181937.txt', 'word': 'tryb', 'frequency': 3}, {'name': 'D20181937.txt', 'word': 'podstawa', 'frequency': 3}, {'name': 'D20181937.txt', 'word': 'zmarły', 'frequency': 2}, {'name': 'D20181937.txt', 'word': 'umorzyć', 'frequency': 2}, {'name': 'D20181937.txt', 'word': 'dopuszczalność', 'frequency': 2}, {'name': 'D20181937.txt', 'word': 'numer', 'frequency': 2}, {'name': 'D20181937.txt', 'word': 'zaskarżyć', 'frequency': 2}, {'name': 'D20181937.txt', 'word': 'organizacja', 'frequency': 2}, {'name': 'D20181937.txt', 'word': 'postanowienie', 'frequency': 2}, {'name': 'D20181937.txt', 'word': 'rzeczpospolita', 'frequency': 2}, {'name': 'D20181937.txt', 'word': 'listopad', 'frequency': 2}, {'name': 'D20181937.txt', 'word': 'wydać', 'frequency': 2}, {'name': 'D20181937.txt', 'word': 'konstytucja', 'frequency': 2}, {'name': 'D20181937.txt', 'word': 'jednogłośnie', 'frequency': 2}, {'name': 'D20181937.txt', 'word': 'polski', 'frequency': 2}, {'name': 'D20181937.txt', 'word': 'związek', 'frequency': 2}, {'name': 'D20181937.txt', 'word': 'odnosić', 'frequency': 2}, {'name': 'D20181937.txt', 'word': 'posiłkowy', 'frequency': 2}, {'name': 'D20181937.txt', 'word': 'zażalenie', 'frequency': 2}, {'name': 'D20181937.txt', 'word': 'oskarżyciel', 'frequency': 2}, {'name': 'D20181937.txt', 'word': 'wyłączać', 'frequency': 2}]\n",
      "[{'name': 'D20181947.txt', 'word': 'bar', 'frequency': 92}, {'name': 'D20181947.txt', 'word': 'morski', 'frequency': 40}, {'name': 'D20181947.txt', 'word': 'hydrograficzny', 'frequency': 34}, {'name': 'D20181947.txt', 'word': 'szkolenie', 'frequency': 30}, {'name': 'D20181947.txt', 'word': 'hydrograf', 'frequency': 26}, {'name': 'D20181947.txt', 'word': 'kategoria', 'frequency': 19}, {'name': 'D20181947.txt', 'word': 'system', 'frequency': 19}, {'name': 'D20181947.txt', 'word': 'dyplom', 'frequency': 18}, {'name': 'D20181947.txt', 'word': 'praca', 'frequency': 18}, {'name': 'D20181947.txt', 'word': 'ustawa', 'frequency': 15}, {'name': 'D20181947.txt', 'word': 'numer', 'frequency': 14}, {'name': 'D20181947.txt', 'word': 'organizacja', 'frequency': 14}, {'name': 'D20181947.txt', 'word': 'dana', 'frequency': 14}, {'name': 'D20181947.txt', 'word': 'szef', 'frequency': 13}, {'name': 'D20181947.txt', 'word': 'pomiar', 'frequency': 13}, {'name': 'D20181947.txt', 'word': 'pozycja', 'frequency': 12}, {'name': 'D20181947.txt', 'word': 'dzień', 'frequency': 12}, {'name': 'D20181947.txt', 'word': 'ośrodek', 'frequency': 10}, {'name': 'D20181947.txt', 'word': 'załącznik', 'frequency': 10}, {'name': 'D20181947.txt', 'word': 'program', 'frequency': 10}, {'name': 'D20181947.txt', 'word': 'instytucja', 'frequency': 10}, {'name': 'D20181947.txt', 'word': 'dziennik', 'frequency': 10}, {'name': 'D20181947.txt', 'word': 'przedmiot', 'frequency': 10}, {'name': 'D20181947.txt', 'word': 'morze', 'frequency': 9}, {'name': 'D20181947.txt', 'word': 'usta', 'frequency': 9}, {'name': 'D20181947.txt', 'word': 'uznanie', 'frequency': 9}, {'name': 'D20181947.txt', 'word': 'wykonywać', 'frequency': 9}, {'name': 'D20181947.txt', 'word': 'praktyk', 'frequency': 8}, {'name': 'D20181947.txt', 'word': 'alba', 'frequency': 8}, {'name': 'D20181947.txt', 'word': 'mowa', 'frequency': 8}, {'name': 'D20181947.txt', 'word': 'pomiarowy', 'frequency': 8}, {'name': 'D20181947.txt', 'word': 'poziom', 'frequency': 7}, {'name': 'D20181947.txt', 'word': 'bezpieczeństwo', 'frequency': 7}, {'name': 'D20181947.txt', 'word': 'praktyczny', 'frequency': 7}, {'name': 'D20181947.txt', 'word': 'określić', 'frequency': 7}, {'name': 'D20181947.txt', 'word': 'wniosek', 'frequency': 7}, {'name': 'D20181947.txt', 'word': 'podpis', 'frequency': 7}, {'name': 'D20181947.txt', 'word': 'biuro', 'frequency': 7}, {'name': 'D20181947.txt', 'word': 'teoria', 'frequency': 7}, {'name': 'D20181947.txt', 'word': 'czas', 'frequency': 6}, {'name': 'D20181947.txt', 'word': 'ramowy', 'frequency': 6}, {'name': 'D20181947.txt', 'word': 'konferansjerka', 'frequency': 6}, {'name': 'D20181947.txt', 'word': 'godzina', 'frequency': 6}, {'name': 'D20181947.txt', 'word': 'marynarka', 'frequency': 6}, {'name': 'D20181947.txt', 'word': 'rozporządzenie', 'frequency': 6}, {'name': 'D20181947.txt', 'word': 'wojenny', 'frequency': 6}, {'name': 'D20181947.txt', 'word': 'prowadzenie', 'frequency': 6}, {'name': 'D20181947.txt', 'word': 'kamizelka', 'frequency': 6}, {'name': 'D20181947.txt', 'word': 'miejsce', 'frequency': 5}, {'name': 'D20181947.txt', 'word': 'punkt', 'frequency': 5}, {'name': 'D20181947.txt', 'word': 'dokument', 'frequency': 5}, {'name': 'D20181947.txt', 'word': 'imię', 'frequency': 5}, {'name': 'D20181947.txt', 'word': 'podstawa', 'frequency': 5}, {'name': 'D20181947.txt', 'word': 'wzór', 'frequency': 5}, {'name': 'D20181947.txt', 'word': 'nazwisko', 'frequency': 5}, {'name': 'D20181947.txt', 'word': 'klauzula', 'frequency': 5}, {'name': 'D20181947.txt', 'word': 'określać', 'frequency': 5}, {'name': 'D20181947.txt', 'word': 'egzystencja', 'frequency': 4}, {'name': 'D20181947.txt', 'word': 'nawigacyjny', 'frequency': 4}, {'name': 'D20181947.txt', 'word': 'ćwiczenia', 'frequency': 4}, {'name': 'D20181947.txt', 'word': 'zawierać', 'frequency': 4}, {'name': 'D20181947.txt', 'word': 'przestrzenny', 'frequency': 4}, {'name': 'D20181947.txt', 'word': 'stosownie', 'frequency': 4}, {'name': 'D20181947.txt', 'word': 'umiejętność', 'frequency': 4}, {'name': 'D20181947.txt', 'word': 'publikacja', 'frequency': 4}, {'name': 'D20181947.txt', 'word': 'obserwacja', 'frequency': 4}, {'name': 'D20181947.txt', 'word': 'woda', 'frequency': 4}, {'name': 'D20181947.txt', 'word': 'szkoleniowy', 'frequency': 4}, {'name': 'D20181947.txt', 'word': 'wiedza', 'frequency': 4}, {'name': 'D20181947.txt', 'word': 'doświadczenie', 'frequency': 4}, {'name': 'D20181947.txt', 'word': 'artykuł', 'frequency': 4}, {'name': 'D20181947.txt', 'word': 'fala', 'frequency': 4}, {'name': 'D20181947.txt', 'word': 'teledetekcja', 'frequency': 4}, {'name': 'D20181947.txt', 'word': 'zasada', 'frequency': 4}, {'name': 'D20181947.txt', 'word': 'geologia', 'frequency': 4}, {'name': 'D20181947.txt', 'word': 'planowanie', 'frequency': 4}, {'name': 'D20181947.txt', 'word': 'nauka', 'frequency': 4}, {'name': 'D20181947.txt', 'word': 'dyplomu', 'frequency': 4}, {'name': 'D20181947.txt', 'word': 'statystyk', 'frequency': 4}, {'name': 'D20181947.txt', 'word': 'pozycjonowanie', 'frequency': 4}, {'name': 'D20181947.txt', 'word': 'cybernetyczny', 'frequency': 4}, {'name': 'D20181947.txt', 'word': 'środek', 'frequency': 4}, {'name': 'D20181947.txt', 'word': 'geofizyk', 'frequency': 3}, {'name': 'D20181947.txt', 'word': 'wpływ', 'frequency': 3}, {'name': 'D20181947.txt', 'word': 'wydanie', 'frequency': 3}, {'name': 'D20181947.txt', 'word': 'poszczególny', 'frequency': 3}, {'name': 'D20181947.txt', 'word': 'zwać', 'frequency': 3}, {'name': 'D20181947.txt', 'word': 'wymaganie', 'frequency': 3}, {'name': 'D20181947.txt', 'word': 'metoda', 'frequency': 3}, {'name': 'D20181947.txt', 'word': 'związać', 'frequency': 3}, {'name': 'D20181947.txt', 'word': 'posiadać', 'frequency': 3}, {'name': 'D20181947.txt', 'word': 'światowy', 'frequency': 3}, {'name': 'D20181947.txt', 'word': 'wnioskodawca', 'frequency': 3}, {'name': 'D20181947.txt', 'word': 'nawigacja', 'frequency': 3}, {'name': 'D20181947.txt', 'word': 'trwanie', 'frequency': 3}, {'name': 'D20181947.txt', 'word': 'weryfikacja', 'frequency': 3}, {'name': 'D20181947.txt', 'word': 'element', 'frequency': 3}, {'name': 'D20181947.txt', 'word': 'błąd', 'frequency': 3}, {'name': 'D20181947.txt', 'word': 'laboratorium', 'frequency': 3}, {'name': 'D20181947.txt', 'word': 'zmiana', 'frequency': 3}, {'name': 'D20181947.txt', 'word': 'specjalistyczny', 'frequency': 3}, {'name': 'D20181947.txt', 'word': 'laserowy', 'frequency': 3}, {'name': 'D20181947.txt', 'word': 'moduł', 'frequency': 3}, {'name': 'D20181947.txt', 'word': 'dalej', 'frequency': 3}, {'name': 'D20181947.txt', 'word': 'akustyk', 'frequency': 3}, {'name': 'D20181947.txt', 'word': 'kontrola', 'frequency': 3}, {'name': 'D20181947.txt', 'word': 'oprogramowanie', 'frequency': 3}, {'name': 'D20181947.txt', 'word': 'meteorologia', 'frequency': 3}, {'name': 'D20181947.txt', 'word': 'marynarki', 'frequency': 3}, {'name': 'D20181947.txt', 'word': 'okaziciel', 'frequency': 3}, {'name': 'D20181947.txt', 'word': 'urządzenie', 'frequency': 3}, {'name': 'D20181947.txt', 'word': 'wymagać', 'frequency': 3}, {'name': 'D20181947.txt', 'word': 'różniczkowy', 'frequency': 3}, {'name': 'D20181947.txt', 'word': 'wojennej', 'frequency': 3}, {'name': 'D20181947.txt', 'word': 'okres', 'frequency': 3}, {'name': 'D20181947.txt', 'word': 'hydroakustyczny', 'frequency': 3}, {'name': 'D20181947.txt', 'word': 'przyrząd', 'frequency': 3}, {'name': 'D20181947.txt', 'word': 'informacja', 'frequency': 3}, {'name': 'D20181947.txt', 'word': 'potwierdzający', 'frequency': 3}, {'name': 'D20181947.txt', 'word': 'zajęcia', 'frequency': 3}, {'name': 'D20181947.txt', 'word': 'uznawać', 'frequency': 3}, {'name': 'D20181947.txt', 'word': 'ciek', 'frequency': 3}, {'name': 'D20181947.txt', 'word': 'środowisko', 'frequency': 3}, {'name': 'D20181947.txt', 'word': 'nazwa', 'frequency': 3}, {'name': 'D20181947.txt', 'word': 'mapa', 'frequency': 3}, {'name': 'D20181947.txt', 'word': 'ogólny', 'frequency': 3}, {'name': 'D20181947.txt', 'word': 'pływ', 'frequency': 3}, {'name': 'D20181947.txt', 'word': 'odniesienie', 'frequency': 3}, {'name': 'D20181947.txt', 'word': 'wydawać', 'frequency': 3}, {'name': 'D20181947.txt', 'word': 'rachunek', 'frequency': 3}, {'name': 'D20181947.txt', 'word': 'teoretyczny', 'frequency': 3}, {'name': 'D20181947.txt', 'word': 'liczba', 'frequency': 2}, {'name': 'D20181947.txt', 'word': 'odbyt', 'frequency': 2}, {'name': 'D20181947.txt', 'word': 'sieciowy', 'frequency': 2}, {'name': 'D20181947.txt', 'word': 'adres', 'frequency': 2}, {'name': 'D20181947.txt', 'word': 'nautyczny', 'frequency': 2}, {'name': 'D20181947.txt', 'word': 'odbywać', 'frequency': 2}, {'name': 'D20181947.txt', 'word': 'literowy', 'frequency': 2}, {'name': 'D20181947.txt', 'word': 'nautyka', 'frequency': 2}, {'name': 'D20181947.txt', 'word': 'prognozować', 'frequency': 2}, {'name': 'D20181947.txt', 'word': 'kwadrat', 'frequency': 2}, {'name': 'D20181947.txt', 'word': 'posiadanie', 'frequency': 2}, {'name': 'D20181947.txt', 'word': 'przyjąć', 'frequency': 2}, {'name': 'D20181947.txt', 'word': 'dnia', 'frequency': 2}, {'name': 'D20181947.txt', 'word': 'alarmowy', 'frequency': 2}, {'name': 'D20181947.txt', 'word': 'prawny', 'frequency': 2}, {'name': 'D20181947.txt', 'word': 'prac', 'frequency': 2}, {'name': 'D20181947.txt', 'word': 'zarządzanie', 'frequency': 2}, {'name': 'D20181947.txt', 'word': 'baza', 'frequency': 2}, {'name': 'D20181947.txt', 'word': 'obrona', 'frequency': 2}, {'name': 'D20181947.txt', 'word': 'zdjąć', 'frequency': 2}, {'name': 'D20181947.txt', 'word': 'wyposażenie', 'frequency': 2}, {'name': 'D20181947.txt', 'word': 'międzynarodowy', 'frequency': 2}, {'name': 'D20181947.txt', 'word': 'kompas', 'frequency': 2}, {'name': 'D20181947.txt', 'word': 'wiatr', 'frequency': 2}, {'name': 'D20181947.txt', 'word': 'łączność', 'frequency': 2}, {'name': 'D20181947.txt', 'word': 'obszar', 'frequency': 2}, {'name': 'D20181947.txt', 'word': 'holować', 'frequency': 2}, {'name': 'D20181947.txt', 'word': 'prąd', 'frequency': 2}, {'name': 'D20181947.txt', 'word': 'biurowy', 'frequency': 2}, {'name': 'D20181947.txt', 'word': 'liniowy', 'frequency': 2}, {'name': 'D20181947.txt', 'word': 'ubiegać', 'frequency': 2}, {'name': 'D20181947.txt', 'word': 'usługa', 'frequency': 2}, {'name': 'D20181947.txt', 'word': 'grupa', 'frequency': 2}, {'name': 'D20181947.txt', 'word': 'przyjmować', 'frequency': 2}, {'name': 'D20181947.txt', 'word': 'planować', 'frequency': 2}, {'name': 'D20181947.txt', 'word': 'cumować', 'frequency': 2}, {'name': 'D20181947.txt', 'word': 'programować', 'frequency': 2}, {'name': 'D20181947.txt', 'word': 'szczegółowy', 'frequency': 2}, {'name': 'D20181947.txt', 'word': 'cofnąć', 'frequency': 2}, {'name': 'D20181947.txt', 'word': 'iho', 'frequency': 2}, {'name': 'D20181947.txt', 'word': 'hydroakustyk', 'frequency': 2}, {'name': 'D20181947.txt', 'word': 'dobry', 'frequency': 2}, {'name': 'D20181947.txt', 'word': 'jednowiązkowy', 'frequency': 2}, {'name': 'D20181947.txt', 'word': 'odpowiedni', 'frequency': 2}, {'name': 'D20181947.txt', 'word': 'komputerowy', 'frequency': 2}, {'name': 'D20181947.txt', 'word': 'inercjalny', 'frequency': 2}, {'name': 'D20181947.txt', 'word': 'cofnięcie', 'frequency': 2}, {'name': 'D20181947.txt', 'word': 'termin', 'frequency': 2}, {'name': 'D20181947.txt', 'word': 'samodzielny', 'frequency': 2}, {'name': 'D20181947.txt', 'word': 'oznakowanie', 'frequency': 2}, {'name': 'D20181947.txt', 'word': 'biura', 'frequency': 2}, {'name': 'D20181947.txt', 'word': 'kartografia', 'frequency': 2}, {'name': 'D20181947.txt', 'word': 'niniejszy', 'frequency': 2}, {'name': 'D20181947.txt', 'word': 'rzeczywisty', 'frequency': 2}, {'name': 'D20181947.txt', 'word': 'posiadacza', 'frequency': 2}, {'name': 'D20181947.txt', 'word': 'lista', 'frequency': 2}, {'name': 'D20181947.txt', 'word': 'lin', 'frequency': 2}, {'name': 'D20181947.txt', 'word': 'wraz', 'frequency': 2}, {'name': 'D20181947.txt', 'word': 'hydrograficznych', 'frequency': 2}, {'name': 'D20181947.txt', 'word': 'wykład', 'frequency': 2}, {'name': 'D20181947.txt', 'word': 'algebra', 'frequency': 2}, {'name': 'D20181947.txt', 'word': 'pogoda', 'frequency': 2}, {'name': 'D20181947.txt', 'word': 'grawimetria', 'frequency': 2}, {'name': 'D20181947.txt', 'word': 'wymagań', 'frequency': 2}, {'name': 'D20181947.txt', 'word': 'podanie', 'frequency': 2}, {'name': 'D20181947.txt', 'word': 'technik', 'frequency': 2}, {'name': 'D20181947.txt', 'word': 'meteorologiczny', 'frequency': 2}, {'name': 'D20181947.txt', 'word': 'opracowywać', 'frequency': 2}, {'name': 'D20181947.txt', 'word': 'aspekt', 'frequency': 2}, {'name': 'D20181947.txt', 'word': 'wykonywaniu', 'frequency': 2}, {'name': 'D20181947.txt', 'word': 'pozyskiwać', 'frequency': 2}, {'name': 'D20181947.txt', 'word': 'dostatek', 'frequency': 2}, {'name': 'D20181947.txt', 'word': 'pisemny', 'frequency': 2}, {'name': 'D20181947.txt', 'word': 'tryb', 'frequency': 2}, {'name': 'D20181947.txt', 'word': 'złożony', 'frequency': 2}, {'name': 'D20181947.txt', 'word': 'for', 'frequency': 2}, {'name': 'D20181947.txt', 'word': 'pozwalać', 'frequency': 2}, {'name': 'D20181947.txt', 'word': 'dydaktyczny', 'frequency': 2}, {'name': 'D20181947.txt', 'word': 'kierować', 'frequency': 2}, {'name': 'D20181947.txt', 'word': 'Internet', 'frequency': 2}, {'name': 'D20181947.txt', 'word': 'rok', 'frequency': 2}, {'name': 'D20181947.txt', 'word': 'trygonometria', 'frequency': 2}, {'name': 'D20181947.txt', 'word': 'dzienia', 'frequency': 2}, {'name': 'D20181947.txt', 'word': 'prezentacja', 'frequency': 2}, {'name': 'D20181947.txt', 'word': 'marka', 'frequency': 2}, {'name': 'D20181947.txt', 'word': 'wymiar', 'frequency': 2}, {'name': 'D20181947.txt', 'word': 'hydrograficznego', 'frequency': 2}, {'name': 'D20181947.txt', 'word': 'zdjęcie', 'frequency': 2}, {'name': 'D20181947.txt', 'word': 'opuszczać', 'frequency': 2}, {'name': 'D20181947.txt', 'word': 'przewidzieć', 'frequency': 2}, {'name': 'D20181947.txt', 'word': 'charakterystyka', 'frequency': 2}, {'name': 'D20181947.txt', 'word': 'hydrografa', 'frequency': 2}, {'name': 'D20181947.txt', 'word': 'geodezja', 'frequency': 2}, {'name': 'D20181947.txt', 'word': 'polski', 'frequency': 2}, {'name': 'D20181947.txt', 'word': 'narodowy', 'frequency': 2}, {'name': 'D20181947.txt', 'word': 'odmowa', 'frequency': 2}, {'name': 'D20181947.txt', 'word': 'minister', 'frequency': 2}, {'name': 'D20181947.txt', 'word': 'kształcenie', 'frequency': 2}, {'name': 'D20181947.txt', 'word': 'określonych', 'frequency': 2}, {'name': 'D20181947.txt', 'word': 'wykaz', 'frequency': 2}, {'name': 'D20181947.txt', 'word': 'kartograficzny', 'frequency': 2}, {'name': 'D20181947.txt', 'word': 'morskiego', 'frequency': 2}, {'name': 'D20181947.txt', 'word': 'posiadacz', 'frequency': 2}, {'name': 'D20181947.txt', 'word': 'fizyk', 'frequency': 2}, {'name': 'D20181947.txt', 'word': 'ponowny', 'frequency': 2}, {'name': 'D20181947.txt', 'word': 'akceptacja', 'frequency': 2}, {'name': 'D20181947.txt', 'word': 'sekunda', 'frequency': 2}, {'name': 'D20181947.txt', 'word': 'kotwiczyć', 'frequency': 2}, {'name': 'D20181947.txt', 'word': 'wynik', 'frequency': 2}, {'name': 'D20181947.txt', 'word': 'procedura', 'frequency': 2}, {'name': 'D20181947.txt', 'word': 'jeden', 'frequency': 2}, {'name': 'D20181947.txt', 'word': 'mały', 'frequency': 2}, {'name': 'D20181947.txt', 'word': 'oznaczenie', 'frequency': 2}, {'name': 'D20181947.txt', 'word': 'matematyk', 'frequency': 2}, {'name': 'D20181947.txt', 'word': 'mp', 'frequency': 2}, {'name': 'D20181947.txt', 'word': 'cel', 'frequency': 2}, {'name': 'D20181947.txt', 'word': 'oceanografia', 'frequency': 2}, {'name': 'D20181947.txt', 'word': 'wpływać', 'frequency': 2}, {'name': 'D20181947.txt', 'word': 'kontrolować', 'frequency': 2}, {'name': 'D20181947.txt', 'word': 'internet', 'frequency': 2}, {'name': 'D20181947.txt', 'word': 'publikacji', 'frequency': 2}, {'name': 'D20181947.txt', 'word': 'likwidacja', 'frequency': 2}, {'name': 'D20181947.txt', 'word': 'prowadzić', 'frequency': 2}, {'name': 'D20181947.txt', 'word': 'kabel', 'frequency': 2}, {'name': 'D20181947.txt', 'word': 'gdynia', 'frequency': 2}, {'name': 'D20181947.txt', 'word': 'produkt', 'frequency': 2}]\n",
      "[{'name': 'D20181950.txt', 'word': 'administracja', 'frequency': 10}, {'name': 'D20181950.txt', 'word': 'załącznik', 'frequency': 8}, {'name': 'D20181950.txt', 'word': 'wydatek', 'frequency': 8}, {'name': 'D20181950.txt', 'word': 'budżet', 'frequency': 7}, {'name': 'D20181950.txt', 'word': 'przeniesienie', 'frequency': 7}, {'name': 'D20181950.txt', 'word': 'państwo', 'frequency': 7}, {'name': 'D20181950.txt', 'word': 'numer', 'frequency': 6}, {'name': 'D20181950.txt', 'word': 'planować', 'frequency': 6}, {'name': 'D20181950.txt', 'word': 'rozporządzenie', 'frequency': 6}, {'name': 'D20181950.txt', 'word': 'dzień', 'frequency': 6}, {'name': 'D20181950.txt', 'word': 'kwota', 'frequency': 6}, {'name': 'D20181950.txt', 'word': 'ustawa', 'frequency': 6}, {'name': 'D20181950.txt', 'word': 'przestrzenny', 'frequency': 5}, {'name': 'D20181950.txt', 'word': 'informatyzacja', 'frequency': 5}, {'name': 'D20181950.txt', 'word': 'wynagrodzenie', 'frequency': 5}, {'name': 'D20181950.txt', 'word': 'częsty', 'frequency': 5}, {'name': 'D20181950.txt', 'word': 'państwowy', 'frequency': 5}, {'name': 'D20181950.txt', 'word': 'wynagrodzić', 'frequency': 5}, {'name': 'D20181950.txt', 'word': 'rządowy', 'frequency': 5}, {'name': 'D20181950.txt', 'word': 'publiczny', 'frequency': 4}, {'name': 'D20181950.txt', 'word': 'pozycja', 'frequency': 4}, {'name': 'D20181950.txt', 'word': 'służba', 'frequency': 4}, {'name': 'D20181950.txt', 'word': 'fundusz', 'frequency': 4}, {'name': 'D20181950.txt', 'word': 'cywilny', 'frequency': 4}, {'name': 'D20181950.txt', 'word': 'składka', 'frequency': 4}, {'name': 'D20181950.txt', 'word': 'mieszkalnictwo', 'frequency': 4}, {'name': 'D20181950.txt', 'word': 'organ', 'frequency': 4}, {'name': 'D20181950.txt', 'word': 'członek', 'frequency': 4}, {'name': 'D20181950.txt', 'word': 'naczelna', 'frequency': 4}, {'name': 'D20181950.txt', 'word': 'planowanie', 'frequency': 4}, {'name': 'D20181950.txt', 'word': 'zagospodarować', 'frequency': 4}, {'name': 'D20181950.txt', 'word': 'urząd', 'frequency': 4}, {'name': 'D20181950.txt', 'word': 'korpus', 'frequency': 4}, {'name': 'D20181950.txt', 'word': 'budownictwo', 'frequency': 4}, {'name': 'D20181950.txt', 'word': 'centralne', 'frequency': 4}, {'name': 'D20181950.txt', 'word': 'dziać', 'frequency': 3}, {'name': 'D20181950.txt', 'word': 'rad', 'frequency': 3}, {'name': 'D20181950.txt', 'word': 'rok', 'frequency': 3}, {'name': 'D20181950.txt', 'word': 'minister', 'frequency': 3}, {'name': 'D20181950.txt', 'word': 'złoty', 'frequency': 3}, {'name': 'D20181950.txt', 'word': 'prezes', 'frequency': 3}, {'name': 'D20181950.txt', 'word': 'dziennik', 'frequency': 3}, {'name': 'D20181950.txt', 'word': 'część', 'frequency': 3}, {'name': 'D20181950.txt', 'word': 'rozdziać', 'frequency': 3}, {'name': 'D20181950.txt', 'word': 'zwiększenie', 'frequency': 2}, {'name': 'D20181950.txt', 'word': 'październik', 'frequency': 2}, {'name': 'D20181950.txt', 'word': 'benefit', 'frequency': 2}, {'name': 'D20181950.txt', 'word': 'korpusu', 'frequency': 2}, {'name': 'D20181950.txt', 'word': 'ubezpieczenie', 'frequency': 2}, {'name': 'D20181950.txt', 'word': 'grupa', 'frequency': 2}, {'name': 'D20181950.txt', 'word': 'następować', 'frequency': 2}, {'name': 'D20181950.txt', 'word': 'ministerstwo', 'frequency': 2}, {'name': 'D20181950.txt', 'word': 'intensyfikacja', 'frequency': 2}, {'name': 'D20181950.txt', 'word': 'administracji', 'frequency': 2}, {'name': 'D20181950.txt', 'word': 'usta', 'frequency': 2}, {'name': 'D20181950.txt', 'word': 'członkowie', 'frequency': 2}, {'name': 'D20181950.txt', 'word': 'minimalizacja', 'frequency': 2}, {'name': 'D20181950.txt', 'word': 'jednostka', 'frequency': 2}, {'name': 'D20181950.txt', 'word': 'niektóry', 'frequency': 2}, {'name': 'D20181950.txt', 'word': 'mowa', 'frequency': 2}, {'name': 'D20181950.txt', 'word': 'osobowy', 'frequency': 2}, {'name': 'D20181950.txt', 'word': 'świadczenie', 'frequency': 2}, {'name': 'D20181950.txt', 'word': 'wyszczególnienie', 'frequency': 2}, {'name': 'D20181950.txt', 'word': 'socjalna', 'frequency': 2}, {'name': 'D20181950.txt', 'word': 'społeczny', 'frequency': 2}, {'name': 'D20181950.txt', 'word': 'odpis', 'frequency': 2}, {'name': 'D20181950.txt', 'word': 'praca', 'frequency': 2}, {'name': 'D20181950.txt', 'word': 'cywilnej', 'frequency': 2}, {'name': 'D20181950.txt', 'word': 'rządowej', 'frequency': 2}, {'name': 'D20181950.txt', 'word': 'bezosobowy', 'frequency': 2}, {'name': 'D20181950.txt', 'word': 'przenosić', 'frequency': 2}, {'name': 'D20181950.txt', 'word': 'identyfikacja', 'frequency': 2}, {'name': 'D20181950.txt', 'word': 'określać', 'frequency': 2}, {'name': 'D20181950.txt', 'word': 'zmniejszenie', 'frequency': 2}, {'name': 'D20181950.txt', 'word': 'zakładowy', 'frequency': 2}, {'name': 'D20181950.txt', 'word': 'bieżeć', 'frequency': 2}, {'name': 'D20181950.txt', 'word': 'służby', 'frequency': 2}]\n"
     ]
    }
   ],
   "source": [
    "for i in tmpM:\n",
    "    print(i)"
   ]
  },
  {
   "cell_type": "code",
   "execution_count": 19,
   "metadata": {},
   "outputs": [],
   "source": [
    "cur.execute('commit')"
   ]
  },
  {
   "cell_type": "code",
   "execution_count": 20,
   "metadata": {},
   "outputs": [],
   "source": [
    "cur.close()\n",
    "connection.close()"
   ]
  },
  {
   "cell_type": "code",
   "execution_count": null,
   "metadata": {},
   "outputs": [],
   "source": []
  },
  {
   "cell_type": "code",
   "execution_count": null,
   "metadata": {},
   "outputs": [],
   "source": []
  }
 ],
 "metadata": {
  "kernelspec": {
   "display_name": "Python 3",
   "language": "python",
   "name": "python3"
  },
  "language_info": {
   "codemirror_mode": {
    "name": "ipython",
    "version": 3
   },
   "file_extension": ".py",
   "mimetype": "text/x-python",
   "name": "python",
   "nbconvert_exporter": "python",
   "pygments_lexer": "ipython3",
   "version": "3.7.0"
  }
 },
 "nbformat": 4,
 "nbformat_minor": 2
}
