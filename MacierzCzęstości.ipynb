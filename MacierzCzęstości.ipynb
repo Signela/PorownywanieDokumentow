{
 "cells": [
  {
   "cell_type": "code",
   "execution_count": 6,
   "metadata": {},
   "outputs": [],
   "source": [
    "import cx_Oracle\n",
    "import os"
   ]
  },
  {
   "cell_type": "code",
   "execution_count": 7,
   "metadata": {},
   "outputs": [],
   "source": [
    "os.environ[\"NLS_LANG\"] = \"POLISH_POLAND.AL32UTF8\"\n",
    "connection = cx_Oracle.connect(\"C##PPAWLUK\", \"#Lex2018\", \"144.21.89.60:1521/ORCL.591263988.oraclecloud.internal\")"
   ]
  },
  {
   "cell_type": "code",
   "execution_count": 4,
   "metadata": {},
   "outputs": [
    {
     "ename": "NameError",
     "evalue": "name 'connection' is not defined",
     "output_type": "error",
     "traceback": [
      "\u001b[1;31m---------------------------------------------------------------------------\u001b[0m",
      "\u001b[1;31mNameError\u001b[0m                                 Traceback (most recent call last)",
      "\u001b[1;32m<ipython-input-4-ea5bc07fdee6>\u001b[0m in \u001b[0;36m<module>\u001b[1;34m()\u001b[0m\n\u001b[1;32m----> 1\u001b[1;33m \u001b[0mcur\u001b[0m \u001b[1;33m=\u001b[0m \u001b[0mconnection\u001b[0m\u001b[1;33m.\u001b[0m\u001b[0mcursor\u001b[0m\u001b[1;33m(\u001b[0m\u001b[1;33m)\u001b[0m\u001b[1;33m\u001b[0m\u001b[0m\n\u001b[0m",
      "\u001b[1;31mNameError\u001b[0m: name 'connection' is not defined"
     ]
    }
   ],
   "source": [
    "cur = connection.cursor()"
   ]
  },
  {
   "cell_type": "code",
   "execution_count": 5,
   "metadata": {},
   "outputs": [
    {
     "ename": "NameError",
     "evalue": "name 'cur' is not defined",
     "output_type": "error",
     "traceback": [
      "\u001b[1;31m---------------------------------------------------------------------------\u001b[0m",
      "\u001b[1;31mNameError\u001b[0m                                 Traceback (most recent call last)",
      "\u001b[1;32m<ipython-input-5-1d42f222ede0>\u001b[0m in \u001b[0;36m<module>\u001b[1;34m()\u001b[0m\n\u001b[1;32m----> 1\u001b[1;33m \u001b[0mcur\u001b[0m\u001b[1;33m.\u001b[0m\u001b[0mexecute\u001b[0m\u001b[1;33m(\u001b[0m\u001b[1;34m'DELETE FROM \"C##PPAWLUK\".\"TEMAT_DOKUMENTU\"'\u001b[0m\u001b[1;33m)\u001b[0m\u001b[1;33m\u001b[0m\u001b[0m\n\u001b[0m\u001b[0;32m      2\u001b[0m \u001b[0mcur\u001b[0m\u001b[1;33m.\u001b[0m\u001b[0mexecute\u001b[0m\u001b[1;33m(\u001b[0m\u001b[1;34m'commit'\u001b[0m\u001b[1;33m)\u001b[0m\u001b[1;33m\u001b[0m\u001b[0m\n",
      "\u001b[1;31mNameError\u001b[0m: name 'cur' is not defined"
     ]
    }
   ],
   "source": [
    "cur.execute('DELETE FROM \"C##PPAWLUK\".\"TEMAT_DOKUMENTU\"')\n",
    "cur.execute('commit')"
   ]
  },
  {
   "cell_type": "code",
   "execution_count": 5,
   "metadata": {},
   "outputs": [],
   "source": [
    "dokumentsName = cur.execute('select distinct nazwa_dokumentu from dokument')"
   ]
  },
  {
   "cell_type": "code",
   "execution_count": 6,
   "metadata": {},
   "outputs": [],
   "source": [
    "names = []"
   ]
  },
  {
   "cell_type": "code",
   "execution_count": 7,
   "metadata": {},
   "outputs": [],
   "source": [
    "for dokument in dokumentsName:\n",
    "    names.append(dokument[0])"
   ]
  },
  {
   "cell_type": "code",
   "execution_count": 8,
   "metadata": {},
   "outputs": [],
   "source": [
    "dokumentsText = []"
   ]
  },
  {
   "cell_type": "code",
   "execution_count": 9,
   "metadata": {},
   "outputs": [],
   "source": [
    "j = 0\n",
    "for name in names:\n",
    "    dokumentsText.append({'name': name, 'text': ''})\n",
    "    text = cur.execute('select tekst from dokument where nazwa_dokumentu = \\'{}\\''.format(name))\n",
    "    for t in text:\n",
    "        dokumentsText[j]['text'] = dokumentsText[j]['text'] + t[0]\n",
    "    j = j + 1"
   ]
  },
  {
   "cell_type": "code",
   "execution_count": 10,
   "metadata": {},
   "outputs": [],
   "source": [
    "allTekst = ''"
   ]
  },
  {
   "cell_type": "code",
   "execution_count": 11,
   "metadata": {},
   "outputs": [],
   "source": [
    "for z in dokumentsText:\n",
    "    allTekst = allTekst + z['text']"
   ]
  },
  {
   "cell_type": "code",
   "execution_count": 12,
   "metadata": {},
   "outputs": [],
   "source": [
    "allTekst = allTekst.split(' ')\n",
    "allTekst.remove('')\n",
    "allTekst = list(set(allTekst))"
   ]
  },
  {
   "cell_type": "code",
   "execution_count": 13,
   "metadata": {},
   "outputs": [],
   "source": [
    "matrix = []"
   ]
  },
  {
   "cell_type": "code",
   "execution_count": 14,
   "metadata": {},
   "outputs": [],
   "source": [
    "for word in allTekst:\n",
    "    for dokument in names:\n",
    "        matrix.append({\"name\":dokument,\"word\": word,'frequency':0})"
   ]
  },
  {
   "cell_type": "code",
   "execution_count": 15,
   "metadata": {},
   "outputs": [],
   "source": [
    "for dokument in dokumentsText:\n",
    "    text = dokument['text']\n",
    "    text = text.split(' ')\n",
    "    text.remove('')\n",
    "    for m in matrix:\n",
    "        if(m['name'] == dokument['name']):\n",
    "            m['frequency'] = text.count(m['word'])"
   ]
  },
  {
   "cell_type": "code",
   "execution_count": 16,
   "metadata": {},
   "outputs": [],
   "source": [
    "def themaDoc(matrix,nameDoc):\n",
    "    tmpMatrix = []\n",
    "    sum = 0\n",
    "    for m in matrix:\n",
    "        if(m['name'] == nameDoc):\n",
    "            sum = sum + m['frequency']\n",
    "            if(m['frequency'] > 1):\n",
    "                tmpMatrix.append(m)\n",
    "    sortMatrix = sorted(tmpMatrix, key=lambda x: x['frequency'],reverse=True)\n",
    "    size = 10\n",
    "    if( len(sortMatrix) < size):\n",
    "        size = len(sortMatrix)\n",
    "    tematy = ''\n",
    "    for i in range(0,size,1):\n",
    "        tematy = tematy + ' ' + sortMatrix[i]['word'] + ' ' + '{:.2f}%'.format((float(sortMatrix[i]['frequency'])/float(sum))*100)+','\n",
    "        print(\"{} {:.2f}%\".format(sortMatrix[i] ,(float(sortMatrix[i]['frequency'])/float(sum))*100))\n",
    "    cur.execute('INSERT INTO \"C##PPAWLUK\".\"TEMAT_DOKUMENTU\" (NAZWA_DOKUMENTU, TEMATY) VALUES( \\'{}\\', \\'{}\\')'.format(nameDoc,tematy))\n",
    "    return sortMatrix"
   ]
  },
  {
   "cell_type": "code",
   "execution_count": 17,
   "metadata": {},
   "outputs": [
    {
     "name": "stdout",
     "output_type": "stream",
     "text": [
      "{'name': 'D20181943.txt', 'word': 'akt', 'frequency': 22} 3.77%\n",
      "{'name': 'D20181943.txt', 'word': 'prawny', 'frequency': 22} 3.77%\n",
      "{'name': 'D20181943.txt', 'word': 'chorągiew', 'frequency': 17} 2.92%\n",
      "{'name': 'D20181943.txt', 'word': 'w', 'frequency': 15} 2.57%\n",
      "{'name': 'D20181943.txt', 'word': 'addendum', 'frequency': 15} 2.57%\n",
      "{'name': 'D20181943.txt', 'word': 'załącznik', 'frequency': 14} 2.40%\n",
      "{'name': 'D20181943.txt', 'word': 'miesięcy', 'frequency': 13} 2.23%\n",
      "{'name': 'D20181943.txt', 'word': 'dwanaście', 'frequency': 13} 2.23%\n",
      "{'name': 'D20181943.txt', 'word': 'powód', 'frequency': 12} 2.06%\n",
      "{'name': 'D20181943.txt', 'word': 'barwa', 'frequency': 11} 1.89%\n",
      "{'name': 'D20181937.txt', 'word': 'akt', 'frequency': 9} 4.04%\n",
      "{'name': 'D20181937.txt', 'word': 'miesięcy', 'frequency': 9} 4.04%\n",
      "{'name': 'D20181937.txt', 'word': 'doba', 'frequency': 9} 4.04%\n",
      "{'name': 'D20181937.txt', 'word': 'dwanaście', 'frequency': 9} 4.04%\n",
      "{'name': 'D20181937.txt', 'word': 'prawny', 'frequency': 9} 4.04%\n",
      "{'name': 'D20181937.txt', 'word': 'ustawa', 'frequency': 6} 2.69%\n",
      "{'name': 'D20181937.txt', 'word': 'postępowanie', 'frequency': 6} 2.69%\n",
      "{'name': 'D20181937.txt', 'word': 'artykuł', 'frequency': 6} 2.69%\n",
      "{'name': 'D20181937.txt', 'word': 'rok', 'frequency': 4} 1.79%\n",
      "{'name': 'D20181937.txt', 'word': 'sąd', 'frequency': 4} 1.79%\n",
      "{'name': 'D20181947.txt', 'word': 'bar', 'frequency': 81} 5.41%\n",
      "{'name': 'D20181947.txt', 'word': 'ćwiczenia', 'frequency': 31} 2.07%\n",
      "{'name': 'D20181947.txt', 'word': 'prawny', 'frequency': 27} 1.80%\n",
      "{'name': 'D20181947.txt', 'word': 'akt', 'frequency': 25} 1.67%\n",
      "{'name': 'D20181947.txt', 'word': 'hydrograficzny', 'frequency': 23} 1.54%\n",
      "{'name': 'D20181947.txt', 'word': 'organizm', 'frequency': 19} 1.27%\n",
      "{'name': 'D20181947.txt', 'word': 'morski', 'frequency': 19} 1.27%\n",
      "{'name': 'D20181947.txt', 'word': 'miara', 'frequency': 18} 1.20%\n",
      "{'name': 'D20181947.txt', 'word': 'system', 'frequency': 18} 1.20%\n",
      "{'name': 'D20181947.txt', 'word': 'fabrykacja', 'frequency': 18} 1.20%\n",
      "{'name': 'D20181950.txt', 'word': 'akt', 'frequency': 14} 3.97%\n",
      "{'name': 'D20181950.txt', 'word': 'prawny', 'frequency': 14} 3.97%\n",
      "{'name': 'D20181950.txt', 'word': 'administracja', 'frequency': 9} 2.55%\n",
      "{'name': 'D20181950.txt', 'word': 'członek', 'frequency': 8} 2.27%\n",
      "{'name': 'D20181950.txt', 'word': 'addendum', 'frequency': 8} 2.27%\n",
      "{'name': 'D20181950.txt', 'word': 'koszt', 'frequency': 8} 2.27%\n",
      "{'name': 'D20181950.txt', 'word': 'kraina', 'frequency': 7} 1.98%\n",
      "{'name': 'D20181950.txt', 'word': 'doba', 'frequency': 7} 1.98%\n",
      "{'name': 'D20181950.txt', 'word': 'publiczny', 'frequency': 6} 1.70%\n",
      "{'name': 'D20181950.txt', 'word': 'załącznik', 'frequency': 6} 1.70%\n"
     ]
    }
   ],
   "source": [
    "tmpM = []\n",
    "for name in names:\n",
    "    tmpM.append(themaDoc(matrix,name))"
   ]
  },
  {
   "cell_type": "code",
   "execution_count": 18,
   "metadata": {},
   "outputs": [
    {
     "name": "stdout",
     "output_type": "stream",
     "text": [
      "[{'name': 'D20181943.txt', 'word': 'akt', 'frequency': 22}, {'name': 'D20181943.txt', 'word': 'prawny', 'frequency': 22}, {'name': 'D20181943.txt', 'word': 'chorągiew', 'frequency': 17}, {'name': 'D20181943.txt', 'word': 'w', 'frequency': 15}, {'name': 'D20181943.txt', 'word': 'addendum', 'frequency': 15}, {'name': 'D20181943.txt', 'word': 'załącznik', 'frequency': 14}, {'name': 'D20181943.txt', 'word': 'miesięcy', 'frequency': 13}, {'name': 'D20181943.txt', 'word': 'dwanaście', 'frequency': 13}, {'name': 'D20181943.txt', 'word': 'powód', 'frequency': 12}, {'name': 'D20181943.txt', 'word': 'barwa', 'frequency': 11}, {'name': 'D20181943.txt', 'word': 'plaster', 'frequency': 11}, {'name': 'D20181943.txt', 'word': 'casus', 'frequency': 11}, {'name': 'D20181943.txt', 'word': 'rozporządzenie', 'frequency': 11}, {'name': 'D20181943.txt', 'word': 'numer', 'frequency': 9}, {'name': 'D20181943.txt', 'word': 'doba', 'frequency': 9}, {'name': 'D20181943.txt', 'word': 'członek', 'frequency': 8}, {'name': 'D20181943.txt', 'word': 'sztandar', 'frequency': 8}, {'name': 'D20181943.txt', 'word': 'będący', 'frequency': 8}, {'name': 'D20181943.txt', 'word': 'rządu', 'frequency': 8}, {'name': 'D20181943.txt', 'word': 'sprawa', 'frequency': 7}, {'name': 'D20181943.txt', 'word': 'dziennik', 'frequency': 7}, {'name': 'D20181943.txt', 'word': 'złocisty', 'frequency': 7}, {'name': 'D20181943.txt', 'word': 'pozycja', 'frequency': 6}, {'name': 'D20181943.txt', 'word': 'minister', 'frequency': 6}, {'name': 'D20181943.txt', 'word': 'wewnętrzny', 'frequency': 6}, {'name': 'D20181943.txt', 'word': 'rok', 'frequency': 5}, {'name': 'D20181943.txt', 'word': 'spośród', 'frequency': 5}, {'name': 'D20181943.txt', 'word': 'buława', 'frequency': 5}, {'name': 'D20181943.txt', 'word': 'drzewce', 'frequency': 5}, {'name': 'D20181943.txt', 'word': 'nadzór', 'frequency': 5}, {'name': 'D20181943.txt', 'word': 'administracja', 'frequency': 5}, {'name': 'D20181943.txt', 'word': 'ustawa', 'frequency': 4}, {'name': 'D20181943.txt', 'word': 'postawa', 'frequency': 4}, {'name': 'D20181943.txt', 'word': 'kolor', 'frequency': 4}, {'name': 'D20181943.txt', 'word': 'określić', 'frequency': 4}, {'name': 'D20181943.txt', 'word': 'stopień', 'frequency': 4}, {'name': 'D20181943.txt', 'word': 'odbierać', 'frequency': 4}, {'name': 'D20181943.txt', 'word': 'inskrypcja', 'frequency': 4}, {'name': 'D20181943.txt', 'word': 'brzmienie', 'frequency': 4}, {'name': 'D20181943.txt', 'word': 'przyrządzić', 'frequency': 4}, {'name': 'D20181943.txt', 'word': 'dzień', 'frequency': 4}, {'name': 'D20181943.txt', 'word': 'aktualny', 'frequency': 4}, {'name': 'D20181943.txt', 'word': 'krucyfiks', 'frequency': 4}, {'name': 'D20181943.txt', 'word': 'być', 'frequency': 4}, {'name': 'D20181943.txt', 'word': 'róg', 'frequency': 4}, {'name': 'D20181943.txt', 'word': 'nr', 'frequency': 4}, {'name': 'D20181943.txt', 'word': 'odwrotny', 'frequency': 3}, {'name': 'D20181943.txt', 'word': 'stanie', 'frequency': 3}, {'name': 'D20181943.txt', 'word': 'strona', 'frequency': 3}, {'name': 'D20181943.txt', 'word': 'kraj', 'frequency': 3}, {'name': 'D20181943.txt', 'word': 'metaliczny', 'frequency': 3}, {'name': 'D20181943.txt', 'word': 'metalowy', 'frequency': 3}, {'name': 'D20181943.txt', 'word': 'dziecinnych', 'frequency': 3}, {'name': 'D20181943.txt', 'word': 'forma', 'frequency': 3}, {'name': 'D20181943.txt', 'word': 'niniejszy', 'frequency': 3}, {'name': 'D20181943.txt', 'word': 'otrzymywać', 'frequency': 3}, {'name': 'D20181943.txt', 'word': 'jednostka', 'frequency': 3}, {'name': 'D20181943.txt', 'word': 'republika', 'frequency': 3}, {'name': 'D20181943.txt', 'word': 'bożek', 'frequency': 3}, {'name': 'D20181943.txt', 'word': 'lokować', 'frequency': 3}, {'name': 'D20181943.txt', 'word': 'wykonać', 'frequency': 3}, {'name': 'D20181943.txt', 'word': 'lat', 'frequency': 3}, {'name': 'D20181943.txt', 'word': 'umieścić', 'frequency': 3}, {'name': 'D20181943.txt', 'word': 'bycie', 'frequency': 3}, {'name': 'D20181943.txt', 'word': 'ojczysty', 'frequency': 3}, {'name': 'D20181943.txt', 'word': 'język', 'frequency': 3}, {'name': 'D20181943.txt', 'word': 'płat', 'frequency': 3}, {'name': 'D20181943.txt', 'word': 'wzór', 'frequency': 3}, {'name': 'D20181943.txt', 'word': 'móc', 'frequency': 3}, {'name': 'D20181943.txt', 'word': 'ambicja', 'frequency': 2}, {'name': 'D20181943.txt', 'word': 'dawać', 'frequency': 2}, {'name': 'D20181943.txt', 'word': 'przybliżony', 'frequency': 2}, {'name': 'D20181943.txt', 'word': 'odkrywać', 'frequency': 2}, {'name': 'D20181943.txt', 'word': 'centymetr', 'frequency': 2}, {'name': 'D20181943.txt', 'word': 'złoty', 'frequency': 2}, {'name': 'D20181943.txt', 'word': 'poz', 'frequency': 2}, {'name': 'D20181943.txt', 'word': 'się', 'frequency': 2}, {'name': 'D20181943.txt', 'word': 'usta', 'frequency': 2}, {'name': 'D20181943.txt', 'word': 'straż', 'frequency': 2}, {'name': 'D20181943.txt', 'word': 'państwowy', 'frequency': 2}, {'name': 'D20181943.txt', 'word': 'wrzesień', 'frequency': 2}, {'name': 'D20181943.txt', 'word': 'ustaw', 'frequency': 2}, {'name': 'D20181943.txt', 'word': 'luzować', 'frequency': 2}, {'name': 'D20181943.txt', 'word': 'emisja', 'frequency': 2}, {'name': 'D20181943.txt', 'word': 'brzeg', 'frequency': 2}, {'name': 'D20181943.txt', 'word': 'nadanie', 'frequency': 2}, {'name': 'D20181943.txt', 'word': 'odnoga', 'frequency': 2}, {'name': 'D20181943.txt', 'word': 'kaliber', 'frequency': 2}, {'name': 'D20181943.txt', 'word': 'dolny', 'frequency': 2}, {'name': 'D20181943.txt', 'word': 'górnolotny', 'frequency': 2}, {'name': 'D20181943.txt', 'word': 'imię', 'frequency': 2}, {'name': 'D20181943.txt', 'word': 'pożarny', 'frequency': 2}, {'name': 'D20181943.txt', 'word': 'kwintal', 'frequency': 2}, {'name': 'D20181943.txt', 'word': 'alba', 'frequency': 2}, {'name': 'D20181943.txt', 'word': 'wyniku', 'frequency': 2}, {'name': 'D20181943.txt', 'word': 'girlanda', 'frequency': 2}]\n",
      "[{'name': 'D20181937.txt', 'word': 'akt', 'frequency': 9}, {'name': 'D20181937.txt', 'word': 'miesięcy', 'frequency': 9}, {'name': 'D20181937.txt', 'word': 'doba', 'frequency': 9}, {'name': 'D20181937.txt', 'word': 'dwanaście', 'frequency': 9}, {'name': 'D20181937.txt', 'word': 'prawny', 'frequency': 9}, {'name': 'D20181937.txt', 'word': 'ustawa', 'frequency': 6}, {'name': 'D20181937.txt', 'word': 'postępowanie', 'frequency': 6}, {'name': 'D20181937.txt', 'word': 'artykuł', 'frequency': 6}, {'name': 'D20181937.txt', 'word': 'rok', 'frequency': 4}, {'name': 'D20181937.txt', 'word': 'sąd', 'frequency': 4}, {'name': 'D20181937.txt', 'word': 'dzień', 'frequency': 4}, {'name': 'D20181937.txt', 'word': 'karny', 'frequency': 3}, {'name': 'D20181937.txt', 'word': 'narzekanie', 'frequency': 3}, {'name': 'D20181937.txt', 'word': 'lokalizacja', 'frequency': 3}, {'name': 'D20181937.txt', 'word': 'rękaw', 'frequency': 3}, {'name': 'D20181937.txt', 'word': 'kodeks', 'frequency': 3}, {'name': 'D20181937.txt', 'word': 'dziennik', 'frequency': 3}, {'name': 'D20181937.txt', 'word': 'republika', 'frequency': 3}, {'name': 'D20181937.txt', 'word': 'pozycja', 'frequency': 3}, {'name': 'D20181937.txt', 'word': 'niwa', 'frequency': 3}, {'name': 'D20181937.txt', 'word': 'ojczysty', 'frequency': 3}, {'name': 'D20181937.txt', 'word': 'język', 'frequency': 3}, {'name': 'D20181937.txt', 'word': 'akuzator', 'frequency': 2}, {'name': 'D20181937.txt', 'word': 'sprzeciwu', 'frequency': 2}, {'name': 'D20181937.txt', 'word': 'polski', 'frequency': 2}, {'name': 'D20181937.txt', 'word': 'zakres', 'frequency': 2}, {'name': 'D20181937.txt', 'word': 'rzeczpospolita', 'frequency': 2}, {'name': 'D20181937.txt', 'word': 'bez', 'frequency': 2}, {'name': 'D20181937.txt', 'word': 'podstawa', 'frequency': 2}, {'name': 'D20181937.txt', 'word': 'usta', 'frequency': 2}, {'name': 'D20181937.txt', 'word': 'wykluczać', 'frequency': 2}, {'name': 'D20181937.txt', 'word': 'nakaz', 'frequency': 2}, {'name': 'D20181937.txt', 'word': 'do', 'frequency': 2}, {'name': 'D20181937.txt', 'word': 'akcesoryjny', 'frequency': 2}, {'name': 'D20181937.txt', 'word': 'martwy', 'frequency': 2}, {'name': 'D20181937.txt', 'word': 'łączność', 'frequency': 2}, {'name': 'D20181937.txt', 'word': 'aż', 'frequency': 2}, {'name': 'D20181937.txt', 'word': 'punkt', 'frequency': 2}, {'name': 'D20181937.txt', 'word': 'tuleja', 'frequency': 2}, {'name': 'D20181937.txt', 'word': 'czerwiec', 'frequency': 2}, {'name': 'D20181937.txt', 'word': 'jednogłośnie', 'frequency': 2}, {'name': 'D20181937.txt', 'word': 'oddać', 'frequency': 2}, {'name': 'D20181937.txt', 'word': 'umorzyć', 'frequency': 2}, {'name': 'D20181937.txt', 'word': 'powstrzymać', 'frequency': 2}]\n",
      "[{'name': 'D20181947.txt', 'word': 'bar', 'frequency': 81}, {'name': 'D20181947.txt', 'word': 'ćwiczenia', 'frequency': 31}, {'name': 'D20181947.txt', 'word': 'prawny', 'frequency': 27}, {'name': 'D20181947.txt', 'word': 'akt', 'frequency': 25}, {'name': 'D20181947.txt', 'word': 'hydrograficzny', 'frequency': 23}, {'name': 'D20181947.txt', 'word': 'organizm', 'frequency': 19}, {'name': 'D20181947.txt', 'word': 'morski', 'frequency': 19}, {'name': 'D20181947.txt', 'word': 'miara', 'frequency': 18}, {'name': 'D20181947.txt', 'word': 'system', 'frequency': 18}, {'name': 'D20181947.txt', 'word': 'fabrykacja', 'frequency': 18}, {'name': 'D20181947.txt', 'word': 'doba', 'frequency': 15}, {'name': 'D20181947.txt', 'word': 'dana', 'frequency': 14}, {'name': 'D20181947.txt', 'word': 'medium', 'frequency': 13}, {'name': 'D20181947.txt', 'word': 'boss', 'frequency': 13}, {'name': 'D20181947.txt', 'word': 'szkolenie', 'frequency': 13}, {'name': 'D20181947.txt', 'word': 'lokalizacja', 'frequency': 11}, {'name': 'D20181947.txt', 'word': 'pełnić', 'frequency': 11}, {'name': 'D20181947.txt', 'word': 'praca', 'frequency': 11}, {'name': 'D20181947.txt', 'word': 'plan', 'frequency': 10}, {'name': 'D20181947.txt', 'word': 'obiekt', 'frequency': 10}, {'name': 'D20181947.txt', 'word': 'czas', 'frequency': 10}, {'name': 'D20181947.txt', 'word': 'pozycja', 'frequency': 10}, {'name': 'D20181947.txt', 'word': 'addendum', 'frequency': 10}, {'name': 'D20181947.txt', 'word': 'bezdno', 'frequency': 9}, {'name': 'D20181947.txt', 'word': 'szef', 'frequency': 9}, {'name': 'D20181947.txt', 'word': 'popularność', 'frequency': 9}, {'name': 'D20181947.txt', 'word': 'dyplom', 'frequency': 9}, {'name': 'D20181947.txt', 'word': 'pragmatyk', 'frequency': 9}, {'name': 'D20181947.txt', 'word': 'organizacja', 'frequency': 8}, {'name': 'D20181947.txt', 'word': 'kategoria', 'frequency': 8}, {'name': 'D20181947.txt', 'word': 'dziennik', 'frequency': 8}, {'name': 'D20181947.txt', 'word': 'hydrograf', 'frequency': 8}, {'name': 'D20181947.txt', 'word': 'postępowanie', 'frequency': 8}, {'name': 'D20181947.txt', 'word': 'morze', 'frequency': 8}, {'name': 'D20181947.txt', 'word': 'podanie', 'frequency': 8}, {'name': 'D20181947.txt', 'word': 'ustawa', 'frequency': 7}, {'name': 'D20181947.txt', 'word': 'teoria', 'frequency': 7}, {'name': 'D20181947.txt', 'word': 'numer', 'frequency': 7}, {'name': 'D20181947.txt', 'word': 'ogłoszenie', 'frequency': 7}, {'name': 'D20181947.txt', 'word': 'hipoteza', 'frequency': 7}, {'name': 'D20181947.txt', 'word': 'Chronos', 'frequency': 7}, {'name': 'D20181947.txt', 'word': 'pomiarowy', 'frequency': 7}, {'name': 'D20181947.txt', 'word': 'miesięcy', 'frequency': 7}, {'name': 'D20181947.txt', 'word': 'dwanaście', 'frequency': 7}, {'name': 'D20181947.txt', 'word': 'poziom', 'frequency': 7}, {'name': 'D20181947.txt', 'word': 'makietowy', 'frequency': 6}, {'name': 'D20181947.txt', 'word': 'pomiar', 'frequency': 6}, {'name': 'D20181947.txt', 'word': 'komiśny', 'frequency': 6}, {'name': 'D20181947.txt', 'word': 'bezpieczeństwo', 'frequency': 6}, {'name': 'D20181947.txt', 'word': 'przesłanka', 'frequency': 6}, {'name': 'D20181947.txt', 'word': 'załącznik', 'frequency': 6}, {'name': 'D20181947.txt', 'word': 'przedmiot', 'frequency': 5}, {'name': 'D20181947.txt', 'word': 'podstawa', 'frequency': 5}, {'name': 'D20181947.txt', 'word': 'prowadzenie', 'frequency': 5}, {'name': 'D20181947.txt', 'word': 'nauka', 'frequency': 5}, {'name': 'D20181947.txt', 'word': 'dzień', 'frequency': 5}, {'name': 'D20181947.txt', 'word': 'uznanie', 'frequency': 5}, {'name': 'D20181947.txt', 'word': 'biuro', 'frequency': 5}, {'name': 'D20181947.txt', 'word': 'imię', 'frequency': 5}, {'name': 'D20181947.txt', 'word': 'godność', 'frequency': 5}, {'name': 'D20181947.txt', 'word': 'szmatka', 'frequency': 4}, {'name': 'D20181947.txt', 'word': 'środek', 'frequency': 4}, {'name': 'D20181947.txt', 'word': 'aparat', 'frequency': 4}, {'name': 'D20181947.txt', 'word': 'określać', 'frequency': 4}, {'name': 'D20181947.txt', 'word': 'wiary', 'frequency': 4}, {'name': 'D20181947.txt', 'word': 'doświadczenie', 'frequency': 4}, {'name': 'D20181947.txt', 'word': 'stosownie', 'frequency': 4}, {'name': 'D20181947.txt', 'word': 'ów', 'frequency': 4}, {'name': 'D20181947.txt', 'word': 'wojenny', 'frequency': 4}, {'name': 'D20181947.txt', 'word': 'statystyk', 'frequency': 4}, {'name': 'D20181947.txt', 'word': 'geologia', 'frequency': 4}, {'name': 'D20181947.txt', 'word': 'miejsce', 'frequency': 4}, {'name': 'D20181947.txt', 'word': 'ćwiczebny', 'frequency': 4}, {'name': 'D20181947.txt', 'word': 'nazwisko', 'frequency': 4}, {'name': 'D20181947.txt', 'word': 'pozycjonowanie', 'frequency': 4}, {'name': 'D20181947.txt', 'word': 'gadka', 'frequency': 4}, {'name': 'D20181947.txt', 'word': 'kalkulacja', 'frequency': 4}, {'name': 'D20181947.txt', 'word': 'powód', 'frequency': 4}, {'name': 'D20181947.txt', 'word': 'podpis', 'frequency': 4}, {'name': 'D20181947.txt', 'word': 'nawigacyjny', 'frequency': 4}, {'name': 'D20181947.txt', 'word': 'obejmować', 'frequency': 4}, {'name': 'D20181947.txt', 'word': 'publikacja', 'frequency': 4}, {'name': 'D20181947.txt', 'word': 'woda', 'frequency': 4}, {'name': 'D20181947.txt', 'word': 'teledetekcja', 'frequency': 4}, {'name': 'D20181947.txt', 'word': 'adekwatnie', 'frequency': 4}, {'name': 'D20181947.txt', 'word': 'ośrodek', 'frequency': 4}, {'name': 'D20181947.txt', 'word': 'indeks', 'frequency': 4}, {'name': 'D20181947.txt', 'word': 'obserwacja', 'frequency': 4}, {'name': 'D20181947.txt', 'word': 'bałwan', 'frequency': 4}, {'name': 'D20181947.txt', 'word': 'fala', 'frequency': 4}, {'name': 'D20181947.txt', 'word': 'marynarka', 'frequency': 4}, {'name': 'D20181947.txt', 'word': 'instytucja', 'frequency': 4}, {'name': 'D20181947.txt', 'word': 'ojczysty', 'frequency': 4}, {'name': 'D20181947.txt', 'word': 'język', 'frequency': 4}, {'name': 'D20181947.txt', 'word': 'być', 'frequency': 4}, {'name': 'D20181947.txt', 'word': 'dyplomu', 'frequency': 4}, {'name': 'D20181947.txt', 'word': 'zasada', 'frequency': 4}, {'name': 'D20181947.txt', 'word': 'artykuł', 'frequency': 4}, {'name': 'D20181947.txt', 'word': 'artyzm', 'frequency': 4}, {'name': 'D20181947.txt', 'word': 'metoda', 'frequency': 3}, {'name': 'D20181947.txt', 'word': 'metamorfoza', 'frequency': 3}, {'name': 'D20181947.txt', 'word': 'członek', 'frequency': 3}, {'name': 'D20181947.txt', 'word': 'program', 'frequency': 3}, {'name': 'D20181947.txt', 'word': 'dopuszczać', 'frequency': 3}, {'name': 'D20181947.txt', 'word': 'meteorologia', 'frequency': 3}, {'name': 'D20181947.txt', 'word': 'oczekiwać', 'frequency': 3}, {'name': 'D20181947.txt', 'word': 'przelać', 'frequency': 3}, {'name': 'D20181947.txt', 'word': 'spośród', 'frequency': 3}, {'name': 'D20181947.txt', 'word': 'badania', 'frequency': 3}, {'name': 'D20181947.txt', 'word': 'rachunek', 'frequency': 3}, {'name': 'D20181947.txt', 'word': 'mienić', 'frequency': 3}, {'name': 'D20181947.txt', 'word': 'oprogramowanie', 'frequency': 3}, {'name': 'D20181947.txt', 'word': 'kurs', 'frequency': 3}, {'name': 'D20181947.txt', 'word': 'zmiana', 'frequency': 3}, {'name': 'D20181947.txt', 'word': 'geofizyk', 'frequency': 3}, {'name': 'D20181947.txt', 'word': 'przestrzenny', 'frequency': 3}, {'name': 'D20181947.txt', 'word': 'globalny', 'frequency': 3}, {'name': 'D20181947.txt', 'word': 'różniczkowy', 'frequency': 3}, {'name': 'D20181947.txt', 'word': 'łatwość', 'frequency': 3}, {'name': 'D20181947.txt', 'word': 'doglądanie', 'frequency': 3}, {'name': 'D20181947.txt', 'word': 'laserowy', 'frequency': 3}, {'name': 'D20181947.txt', 'word': 'rządu', 'frequency': 3}, {'name': 'D20181947.txt', 'word': 'połączyć', 'frequency': 3}, {'name': 'D20181947.txt', 'word': 'nacjonalistyczny', 'frequency': 3}, {'name': 'D20181947.txt', 'word': 'republika', 'frequency': 3}, {'name': 'D20181947.txt', 'word': 'aplikacja', 'frequency': 3}, {'name': 'D20181947.txt', 'word': 'narzucać', 'frequency': 3}, {'name': 'D20181947.txt', 'word': 'wykonywać', 'frequency': 3}, {'name': 'D20181947.txt', 'word': 'pozyskiwać', 'frequency': 3}, {'name': 'D20181947.txt', 'word': 'konieczność', 'frequency': 3}, {'name': 'D20181947.txt', 'word': 'światowy', 'frequency': 3}, {'name': 'D20181947.txt', 'word': 'autorytet', 'frequency': 3}, {'name': 'D20181947.txt', 'word': 'hydroakustyczny', 'frequency': 3}, {'name': 'D20181947.txt', 'word': 'pływ', 'frequency': 3}, {'name': 'D20181947.txt', 'word': 'marynarki', 'frequency': 3}, {'name': 'D20181947.txt', 'word': 'specjalistyczny', 'frequency': 3}, {'name': 'D20181947.txt', 'word': 'ciek', 'frequency': 3}, {'name': 'D20181947.txt', 'word': 'przyrząd', 'frequency': 3}, {'name': 'D20181947.txt', 'word': 'ewaluacja', 'frequency': 3}, {'name': 'D20181947.txt', 'word': 'oznaczenie', 'frequency': 3}, {'name': 'D20181947.txt', 'word': 'mapa', 'frequency': 3}, {'name': 'D20181947.txt', 'word': 'indywidualny', 'frequency': 3}, {'name': 'D20181947.txt', 'word': 'wojennej', 'frequency': 3}, {'name': 'D20181947.txt', 'word': 'akademicki', 'frequency': 3}, {'name': 'D20181947.txt', 'word': 'wzór', 'frequency': 3}, {'name': 'D20181947.txt', 'word': 'wyposażonym', 'frequency': 3}, {'name': 'D20181947.txt', 'word': 'określony', 'frequency': 3}, {'name': 'D20181947.txt', 'word': 'nawigacja', 'frequency': 3}, {'name': 'D20181947.txt', 'word': 'okaziciel', 'frequency': 3}, {'name': 'D20181947.txt', 'word': 'for', 'frequency': 2}, {'name': 'D20181947.txt', 'word': 'delator', 'frequency': 2}, {'name': 'D20181947.txt', 'word': 'szkoleniowy', 'frequency': 2}, {'name': 'D20181947.txt', 'word': 'baza', 'frequency': 2}, {'name': 'D20181947.txt', 'word': 'oceanografia', 'frequency': 2}, {'name': 'D20181947.txt', 'word': 'akcesoria', 'frequency': 2}, {'name': 'D20181947.txt', 'word': 'echosonda', 'frequency': 2}, {'name': 'D20181947.txt', 'word': 'jednego', 'frequency': 2}, {'name': 'D20181947.txt', 'word': 'informacja', 'frequency': 2}, {'name': 'D20181947.txt', 'word': 'określić', 'frequency': 2}, {'name': 'D20181947.txt', 'word': 'zdjęcie', 'frequency': 2}, {'name': 'D20181947.txt', 'word': 'ogólny', 'frequency': 2}, {'name': 'D20181947.txt', 'word': 'prac', 'frequency': 2}, {'name': 'D20181947.txt', 'word': 'dydaktyczny', 'frequency': 2}, {'name': 'D20181947.txt', 'word': 'procedura', 'frequency': 2}, {'name': 'D20181947.txt', 'word': 'ramowy', 'frequency': 2}, {'name': 'D20181947.txt', 'word': 'foremny', 'frequency': 2}, {'name': 'D20181947.txt', 'word': 'nautyka', 'frequency': 2}, {'name': 'D20181947.txt', 'word': 'algebra', 'frequency': 2}, {'name': 'D20181947.txt', 'word': 'posiadać', 'frequency': 2}, {'name': 'D20181947.txt', 'word': 'wiedza', 'frequency': 2}, {'name': 'D20181947.txt', 'word': 'oznakowanie', 'frequency': 2}, {'name': 'D20181947.txt', 'word': 'obrona', 'frequency': 2}, {'name': 'D20181947.txt', 'word': 'morskiego', 'frequency': 2}, {'name': 'D20181947.txt', 'word': 'hydroakustyk', 'frequency': 2}, {'name': 'D20181947.txt', 'word': 'chwila', 'frequency': 2}, {'name': 'D20181947.txt', 'word': 'geodezja', 'frequency': 2}, {'name': 'D20181947.txt', 'word': 'jednowiązkowy', 'frequency': 2}, {'name': 'D20181947.txt', 'word': 'zarządzanie', 'frequency': 2}, {'name': 'D20181947.txt', 'word': 'adekwatny', 'frequency': 2}, {'name': 'D20181947.txt', 'word': 'usta', 'frequency': 2}, {'name': 'D20181947.txt', 'word': 'sieciowy', 'frequency': 2}, {'name': 'D20181947.txt', 'word': 'produkt', 'frequency': 2}, {'name': 'D20181947.txt', 'word': 'wymaganie', 'frequency': 2}, {'name': 'D20181947.txt', 'word': 'trygonometria', 'frequency': 2}, {'name': 'D20181947.txt', 'word': 'alfabetyczny', 'frequency': 2}, {'name': 'D20181947.txt', 'word': 'dobry', 'frequency': 2}, {'name': 'D20181947.txt', 'word': 'wiatr', 'frequency': 2}, {'name': 'D20181947.txt', 'word': 'grawimetria', 'frequency': 2}, {'name': 'D20181947.txt', 'word': 'praktyczny', 'frequency': 2}, {'name': 'D20181947.txt', 'word': 'posiadacz', 'frequency': 2}, {'name': 'D20181947.txt', 'word': 'kodować', 'frequency': 2}, {'name': 'D20181947.txt', 'word': 'ciągnąć', 'frequency': 2}, {'name': 'D20181947.txt', 'word': 'posiadacza', 'frequency': 2}, {'name': 'D20181947.txt', 'word': 'literowy', 'frequency': 2}, {'name': 'D20181947.txt', 'word': 'środowisko', 'frequency': 2}, {'name': 'D20181947.txt', 'word': 'kabel', 'frequency': 2}, {'name': 'D20181947.txt', 'word': 'nurt', 'frequency': 2}, {'name': 'D20181947.txt', 'word': 'niniejszy', 'frequency': 2}, {'name': 'D20181947.txt', 'word': 'hydrograficznych', 'frequency': 2}, {'name': 'D20181947.txt', 'word': 'technik', 'frequency': 2}, {'name': 'D20181947.txt', 'word': 'internacjonalny', 'frequency': 2}, {'name': 'D20181947.txt', 'word': 'aura', 'frequency': 2}, {'name': 'D20181947.txt', 'word': 'wymagań', 'frequency': 2}, {'name': 'D20181947.txt', 'word': 'internet', 'frequency': 2}, {'name': 'D20181947.txt', 'word': 'do', 'frequency': 2}, {'name': 'D20181947.txt', 'word': 'demonstracja', 'frequency': 2}, {'name': 'D20181947.txt', 'word': 'element', 'frequency': 2}, {'name': 'D20181947.txt', 'word': 'lin', 'frequency': 2}, {'name': 'D20181947.txt', 'word': 'prąd', 'frequency': 2}, {'name': 'D20181947.txt', 'word': 'usługa', 'frequency': 2}, {'name': 'D20181947.txt', 'word': 'idea', 'frequency': 2}, {'name': 'D20181947.txt', 'word': 'kontrolować', 'frequency': 2}, {'name': 'D20181947.txt', 'word': 'zawodu', 'frequency': 2}, {'name': 'D20181947.txt', 'word': 'hydrografa', 'frequency': 2}, {'name': 'D20181947.txt', 'word': 'praktyk', 'frequency': 2}, {'name': 'D20181947.txt', 'word': 'posługa', 'frequency': 2}, {'name': 'D20181947.txt', 'word': 'łączność', 'frequency': 2}, {'name': 'D20181947.txt', 'word': 'edytować', 'frequency': 2}, {'name': 'D20181947.txt', 'word': 'liniowy', 'frequency': 2}, {'name': 'D20181947.txt', 'word': 'prognozować', 'frequency': 2}, {'name': 'D20181947.txt', 'word': 'pogoda', 'frequency': 2}, {'name': 'D20181947.txt', 'word': 'matematyk', 'frequency': 2}, {'name': 'D20181947.txt', 'word': 'wyposażenie', 'frequency': 2}, {'name': 'D20181947.txt', 'word': 'planować', 'frequency': 2}, {'name': 'D20181947.txt', 'word': 'przyjąć', 'frequency': 2}, {'name': 'D20181947.txt', 'word': 'komputerowy', 'frequency': 2}, {'name': 'D20181947.txt', 'word': 'cumować', 'frequency': 2}, {'name': 'D20181947.txt', 'word': 'planowanie', 'frequency': 2}, {'name': 'D20181947.txt', 'word': 'cofnąć', 'frequency': 2}, {'name': 'D20181947.txt', 'word': 'nautyczny', 'frequency': 2}, {'name': 'D20181947.txt', 'word': 'fizyk', 'frequency': 2}, {'name': 'D20181947.txt', 'word': 'programować', 'frequency': 2}, {'name': 'D20181947.txt', 'word': 'publikacji', 'frequency': 2}, {'name': 'D20181947.txt', 'word': 'określonych', 'frequency': 2}, {'name': 'D20181947.txt', 'word': 'dokument', 'frequency': 2}, {'name': 'D20181947.txt', 'word': 'jurydyczny', 'frequency': 2}, {'name': 'D20181947.txt', 'word': 'lista', 'frequency': 2}, {'name': 'D20181947.txt', 'word': 'zdjąć', 'frequency': 2}, {'name': 'D20181947.txt', 'word': 'inercjalny', 'frequency': 2}, {'name': 'D20181947.txt', 'word': 'rzeczywisty', 'frequency': 2}, {'name': 'D20181947.txt', 'word': 'holować', 'frequency': 2}, {'name': 'D20181947.txt', 'word': 'międzynarodowy', 'frequency': 2}, {'name': 'D20181947.txt', 'word': 'odniesienie', 'frequency': 2}, {'name': 'D20181947.txt', 'word': 'administracja', 'frequency': 2}, {'name': 'D20181947.txt', 'word': 'zajęcia', 'frequency': 2}, {'name': 'D20181947.txt', 'word': 'minister', 'frequency': 2}, {'name': 'D20181947.txt', 'word': 'mieszany', 'frequency': 2}, {'name': 'D20181947.txt', 'word': 'naturalny', 'frequency': 2}, {'name': 'D20181947.txt', 'word': 'aspekt', 'frequency': 2}, {'name': 'D20181947.txt', 'word': 'everyman', 'frequency': 2}, {'name': 'D20181947.txt', 'word': 'opracowywać', 'frequency': 2}, {'name': 'D20181947.txt', 'word': 'ściągnąć', 'frequency': 2}, {'name': 'D20181947.txt', 'word': 'autonomiczny', 'frequency': 2}, {'name': 'D20181947.txt', 'word': 'czworokąt', 'frequency': 2}, {'name': 'D20181947.txt', 'word': 'opuszczać', 'frequency': 2}, {'name': 'D20181947.txt', 'word': 'sekunda', 'frequency': 2}, {'name': 'D20181947.txt', 'word': 'wodny', 'frequency': 2}, {'name': 'D20181947.txt', 'word': 'dnia', 'frequency': 2}, {'name': 'D20181947.txt', 'word': 'narodowy', 'frequency': 2}, {'name': 'D20181947.txt', 'word': 'aktualny', 'frequency': 2}, {'name': 'D20181947.txt', 'word': 'iho', 'frequency': 2}, {'name': 'D20181947.txt', 'word': 'umiejętność', 'frequency': 2}, {'name': 'D20181947.txt', 'word': 'hydrograficznego', 'frequency': 2}, {'name': 'D20181947.txt', 'word': 'linearny', 'frequency': 2}, {'name': 'D20181947.txt', 'word': 'prezentacja', 'frequency': 2}, {'name': 'D20181947.txt', 'word': 'biura', 'frequency': 2}, {'name': 'D20181947.txt', 'word': 'kotwiczyć', 'frequency': 2}, {'name': 'D20181947.txt', 'word': 'bierny', 'frequency': 2}, {'name': 'D20181947.txt', 'word': 'rozporządzenie', 'frequency': 2}, {'name': 'D20181947.txt', 'word': 'wykonywaniu', 'frequency': 2}, {'name': 'D20181947.txt', 'word': 'kompas', 'frequency': 2}, {'name': 'D20181947.txt', 'word': 'alarmowy', 'frequency': 2}, {'name': 'D20181947.txt', 'word': 'kwadrat', 'frequency': 2}, {'name': 'D20181947.txt', 'word': 'meteorologiczny', 'frequency': 2}, {'name': 'D20181947.txt', 'word': 'co', 'frequency': 2}, {'name': 'D20181947.txt', 'word': 'plon', 'frequency': 2}, {'name': 'D20181947.txt', 'word': 'błąd', 'frequency': 2}, {'name': 'D20181947.txt', 'word': 'mp', 'frequency': 2}, {'name': 'D20181947.txt', 'word': 'abolicja', 'frequency': 2}, {'name': 'D20181947.txt', 'word': 'biurowy', 'frequency': 2}, {'name': 'D20181947.txt', 'word': 'mały', 'frequency': 2}, {'name': 'D20181947.txt', 'word': 'kartograficzny', 'frequency': 2}, {'name': 'D20181947.txt', 'word': 'pakiet', 'frequency': 2}, {'name': 'D20181947.txt', 'word': 'godzina', 'frequency': 2}, {'name': 'D20181947.txt', 'word': 'gdynia', 'frequency': 2}]\n",
      "[{'name': 'D20181950.txt', 'word': 'akt', 'frequency': 14}, {'name': 'D20181950.txt', 'word': 'prawny', 'frequency': 14}, {'name': 'D20181950.txt', 'word': 'administracja', 'frequency': 9}, {'name': 'D20181950.txt', 'word': 'członek', 'frequency': 8}, {'name': 'D20181950.txt', 'word': 'addendum', 'frequency': 8}, {'name': 'D20181950.txt', 'word': 'koszt', 'frequency': 8}, {'name': 'D20181950.txt', 'word': 'kraina', 'frequency': 7}, {'name': 'D20181950.txt', 'word': 'doba', 'frequency': 7}, {'name': 'D20181950.txt', 'word': 'publiczny', 'frequency': 6}, {'name': 'D20181950.txt', 'word': 'załącznik', 'frequency': 6}, {'name': 'D20181950.txt', 'word': 'odszkodowanie', 'frequency': 5}, {'name': 'D20181950.txt', 'word': 'honorarium', 'frequency': 5}, {'name': 'D20181950.txt', 'word': 'dać', 'frequency': 5}, {'name': 'D20181950.txt', 'word': 'centralne', 'frequency': 4}, {'name': 'D20181950.txt', 'word': 'branża', 'frequency': 4}, {'name': 'D20181950.txt', 'word': 'wynagrodzić', 'frequency': 4}, {'name': 'D20181950.txt', 'word': 'rządowy', 'frequency': 4}, {'name': 'D20181950.txt', 'word': 'naczelna', 'frequency': 4}, {'name': 'D20181950.txt', 'word': 'cywilny', 'frequency': 4}, {'name': 'D20181950.txt', 'word': 'numer', 'frequency': 4}, {'name': 'D20181950.txt', 'word': 'składka', 'frequency': 4}, {'name': 'D20181950.txt', 'word': 'boss', 'frequency': 4}, {'name': 'D20181950.txt', 'word': 'służba', 'frequency': 4}, {'name': 'D20181950.txt', 'word': 'miesięcy', 'frequency': 4}, {'name': 'D20181950.txt', 'word': 'korpus', 'frequency': 4}, {'name': 'D20181950.txt', 'word': 'spożytkować', 'frequency': 4}, {'name': 'D20181950.txt', 'word': 'rządu', 'frequency': 4}, {'name': 'D20181950.txt', 'word': 'narząd', 'frequency': 4}, {'name': 'D20181950.txt', 'word': 'posługa', 'frequency': 4}, {'name': 'D20181950.txt', 'word': 'dzień', 'frequency': 4}, {'name': 'D20181950.txt', 'word': 'serca', 'frequency': 4}, {'name': 'D20181950.txt', 'word': 'fundusz', 'frequency': 4}, {'name': 'D20181950.txt', 'word': 'budowlana', 'frequency': 4}, {'name': 'D20181950.txt', 'word': 'urząd', 'frequency': 4}, {'name': 'D20181950.txt', 'word': 'dwanaście', 'frequency': 4}, {'name': 'D20181950.txt', 'word': 'lekkiego', 'frequency': 4}, {'name': 'D20181950.txt', 'word': 'przeniesienie', 'frequency': 4}, {'name': 'D20181950.txt', 'word': 'biuro', 'frequency': 4}, {'name': 'D20181950.txt', 'word': 'organ', 'frequency': 4}, {'name': 'D20181950.txt', 'word': 'kadłub', 'frequency': 4}, {'name': 'D20181950.txt', 'word': 'wydatek', 'frequency': 4}, {'name': 'D20181950.txt', 'word': 'informatyzacja', 'frequency': 3}, {'name': 'D20181950.txt', 'word': 'ów', 'frequency': 3}, {'name': 'D20181950.txt', 'word': 'prezes', 'frequency': 3}, {'name': 'D20181950.txt', 'word': 'pozycja', 'frequency': 3}, {'name': 'D20181950.txt', 'word': 'minister', 'frequency': 3}, {'name': 'D20181950.txt', 'word': 'rad', 'frequency': 3}, {'name': 'D20181950.txt', 'word': 'złocisty', 'frequency': 3}, {'name': 'D20181950.txt', 'word': 'ustawa', 'frequency': 2}, {'name': 'D20181950.txt', 'word': 'wyszczególnienie', 'frequency': 2}, {'name': 'D20181950.txt', 'word': 'zagospodarować', 'frequency': 2}, {'name': 'D20181950.txt', 'word': 'administracji', 'frequency': 2}, {'name': 'D20181950.txt', 'word': 'bieżeć', 'frequency': 2}, {'name': 'D20181950.txt', 'word': 'socjalna', 'frequency': 2}, {'name': 'D20181950.txt', 'word': 'cywilnej', 'frequency': 2}, {'name': 'D20181950.txt', 'word': 'złoty', 'frequency': 2}, {'name': 'D20181950.txt', 'word': 'zwiększenie', 'frequency': 2}, {'name': 'D20181950.txt', 'word': 'mieszkalnictwo', 'frequency': 2}, {'name': 'D20181950.txt', 'word': 'ubezpieczenie', 'frequency': 2}, {'name': 'D20181950.txt', 'word': 'korpusu', 'frequency': 2}, {'name': 'D20181950.txt', 'word': 'obniżenie', 'frequency': 2}, {'name': 'D20181950.txt', 'word': 'członkowie', 'frequency': 2}, {'name': 'D20181950.txt', 'word': 'polisa', 'frequency': 2}, {'name': 'D20181950.txt', 'word': 'grupa', 'frequency': 2}, {'name': 'D20181950.txt', 'word': 'przestrzenny', 'frequency': 2}, {'name': 'D20181950.txt', 'word': 'służby', 'frequency': 2}, {'name': 'D20181950.txt', 'word': 'zmniejszenie', 'frequency': 2}, {'name': 'D20181950.txt', 'word': 'bezosobowy', 'frequency': 2}, {'name': 'D20181950.txt', 'word': 'państwo', 'frequency': 2}, {'name': 'D20181950.txt', 'word': 'ministerium', 'frequency': 2}, {'name': 'D20181950.txt', 'word': 'budżet', 'frequency': 2}, {'name': 'D20181950.txt', 'word': 'społeczny', 'frequency': 2}, {'name': 'D20181950.txt', 'word': 'dziennik', 'frequency': 2}, {'name': 'D20181950.txt', 'word': 'jednostka', 'frequency': 2}, {'name': 'D20181950.txt', 'word': 'część', 'frequency': 2}, {'name': 'D20181950.txt', 'word': 'planować', 'frequency': 2}, {'name': 'D20181950.txt', 'word': 'planowanie', 'frequency': 2}, {'name': 'D20181950.txt', 'word': 'nie', 'frequency': 2}, {'name': 'D20181950.txt', 'word': 'odpis', 'frequency': 2}, {'name': 'D20181950.txt', 'word': 'zakładowy', 'frequency': 2}, {'name': 'D20181950.txt', 'word': 'każdy', 'frequency': 2}, {'name': 'D20181950.txt', 'word': 'dziać', 'frequency': 2}, {'name': 'D20181950.txt', 'word': 'praca', 'frequency': 2}, {'name': 'D20181950.txt', 'word': 'budownictwo', 'frequency': 2}, {'name': 'D20181950.txt', 'word': 'fabrykacja', 'frequency': 2}, {'name': 'D20181950.txt', 'word': 'rozporządzenie', 'frequency': 2}, {'name': 'D20181950.txt', 'word': 'podniesienie', 'frequency': 2}, {'name': 'D20181950.txt', 'word': 'wynagrodzenie', 'frequency': 2}, {'name': 'D20181950.txt', 'word': 'rozdziać', 'frequency': 2}, {'name': 'D20181950.txt', 'word': 'rządowej', 'frequency': 2}, {'name': 'D20181950.txt', 'word': 'kwota', 'frequency': 2}, {'name': 'D20181950.txt', 'word': 'świadczenie', 'frequency': 2}, {'name': 'D20181950.txt', 'word': 'osobowy', 'frequency': 2}]\n"
     ]
    }
   ],
   "source": [
    "for i in tmpM:\n",
    "    print(i)"
   ]
  },
  {
   "cell_type": "code",
   "execution_count": 19,
   "metadata": {},
   "outputs": [],
   "source": [
    "cur.execute('commit')"
   ]
  },
  {
   "cell_type": "code",
   "execution_count": 20,
   "metadata": {},
   "outputs": [],
   "source": [
    "cur.close()\n",
    "connection.close()"
   ]
  },
  {
   "cell_type": "code",
   "execution_count": null,
   "metadata": {},
   "outputs": [],
   "source": []
  },
  {
   "cell_type": "code",
   "execution_count": null,
   "metadata": {},
   "outputs": [],
   "source": []
  }
 ],
 "metadata": {
  "kernelspec": {
   "display_name": "Python 3",
   "language": "python",
   "name": "python3"
  },
  "language_info": {
   "codemirror_mode": {
    "name": "ipython",
    "version": 3
   },
   "file_extension": ".py",
   "mimetype": "text/x-python",
   "name": "python",
   "nbconvert_exporter": "python",
   "pygments_lexer": "ipython3",
   "version": "3.7.0"
  }
 },
 "nbformat": 4,
 "nbformat_minor": 2
}
