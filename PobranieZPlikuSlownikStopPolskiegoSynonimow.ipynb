{
 "cells": [
  {
   "cell_type": "code",
   "execution_count": 28,
   "metadata": {},
   "outputs": [],
   "source": [
    "import cx_Oracle\n",
    "import os\n",
    "import io"
   ]
  },
  {
   "cell_type": "code",
   "execution_count": 29,
   "metadata": {},
   "outputs": [],
   "source": [
    "os.environ[\"NLS_LANG\"] = \"POLISH_POLAND.AL32UTF8\"\n",
    "connection = cx_Oracle.connect(\"C##PPAWLUK\", \"#Lex2018\", \"144.21.89.60:1521/ORCL.591263988.oraclecloud.internal\")"
   ]
  },
  {
   "cell_type": "code",
   "execution_count": 30,
   "metadata": {},
   "outputs": [],
   "source": [
    "cur = connection.cursor()"
   ]
  },
  {
   "cell_type": "code",
   "execution_count": 31,
   "metadata": {},
   "outputs": [],
   "source": [
    "cur.execute('DELETE FROM \"C##PPAWLUK\".\"DOKUMENT\"')\n",
    "cur.execute('commit')"
   ]
  },
  {
   "cell_type": "code",
   "execution_count": 32,
   "metadata": {},
   "outputs": [],
   "source": [
    "nameDocuments = os.listdir(\"dokumenty\")"
   ]
  },
  {
   "cell_type": "code",
   "execution_count": 33,
   "metadata": {},
   "outputs": [],
   "source": [
    "def clearTxt(myfile):\n",
    "    myfile = myfile.replace('\\n', ' ').replace(',', '').replace('.', '').replace('!', '').replace('?', '').replace('/',\n",
    "                                                                                                                   '').replace(\n",
    "        '\\\\', '').replace(';', '').replace('\"', ' ').replace('\\'', ' ').replace(']', '').replace('[', '').replace(')',\n",
    "                                                                                                                  '').replace(\n",
    "        '(',\n",
    "        '').replace(\n",
    "        ':', '').replace('`', '').replace('@', '').replace('#', '').replace('$', '').replace('%', '').replace(\n",
    "        '^', '').replace('&', '').replace('*', '').replace('-', ' ').replace('_', ' ').replace('+', ' ').replace('=',\n",
    "                                                                                                                 ' ').replace(\n",
    "        '0', '').replace('1', '').replace('2', '').replace('3', '').replace('4', '').replace('5', '').replace('6',\n",
    "                                                                                                              '').replace(\n",
    "        '7', '').replace('8', '').replace('9', '').replace('>', ' ').replace('<', ' ').replace('{', '').replace('}',\n",
    "                                                                                                                '').replace(\n",
    "        '§', '').replace('\\\f",
    "', '').replace('\\\\ufeff', '').replace(' ', ' ').replace('–', ' ').replace('“', '').replace(\n",
    "        '„', '').replace('…', '').replace('\t', '').replace('’', ' ').replace('”', '').replace('  ', ' ').replace(\n",
    "        '  ', ' ')\n",
    "    return myfile"
   ]
  },
  {
   "cell_type": "code",
   "execution_count": 34,
   "metadata": {},
   "outputs": [],
   "source": [
    "def stopList(myfile):\n",
    "    replaceFile = myfile\n",
    "    for word in myfile:\n",
    "        stopword = cur.execute(\n",
    "            'select STWORD from STOPWORDS where STWORD = \\'{}\\' and rownum=1'.format(\n",
    "                word))\n",
    "        for i in stopword:\n",
    "            replaceFile.remove(i[0])\n",
    "    removeTab = {'\t', '\\n', ''}\n",
    "    for remove in removeTab:\n",
    "        while (remove in replaceFile):\n",
    "            replaceFile.remove(remove)\n",
    "    return replaceFile"
   ]
  },
  {
   "cell_type": "code",
   "execution_count": 35,
   "metadata": {},
   "outputs": [],
   "source": [
    "def slowikPolskiego(replaceFile):\n",
    "    j = 0\n",
    "    for word in replaceFile:\n",
    "        dictionary = cur.execute(\n",
    "            'select slow_forma_podstawowa from slownik where slow_wyraz = \\'{}\\' and rownum=1'.format(\n",
    "                word))\n",
    "        for i in dictionary:\n",
    "            replaceFile.__setitem__(j, i[0])\n",
    "            j = j + 1\n",
    "    return replaceFile\n"
   ]
  },
  {
   "cell_type": "code",
   "execution_count": 36,
   "metadata": {},
   "outputs": [],
   "source": [
    "def slowikSynonimow1(replaceFile):\n",
    "    j = 0\n",
    "    for word in replaceFile:\n",
    "        thesaurus = cur.execute(\n",
    "            'select slow_forma_podstawowa from slownik_synonimow where slow_wyraz = \\'{}\\' and slow_wyraz != slow_forma_podstawowa and rownum=1 '.format(\n",
    "                word))\n",
    "        for i in thesaurus:\n",
    "            replaceFile.__setitem__(j, i[0])\n",
    "            j = j + 1\n",
    "    return replaceFile"
   ]
  },
  {
   "cell_type": "code",
   "execution_count": 37,
   "metadata": {},
   "outputs": [],
   "source": [
    "def pdfparser(data, nr):\n",
    "    file = io.open(data, mode=\"r\", encoding='utf-8-sig')\n",
    "    myfile = file.read()\n",
    "    myfile = myfile.lower()\n",
    "    myfile = clearTxt(myfile)\n",
    "    myfile = myfile.split(' ')\n",
    "    replaceFile = stopList(myfile)\n",
    "    replaceFile = slowikPolskiego(replaceFile)\n",
    "    replaceFile = slowikSynonimow1(replaceFile)\n",
    "    txt = ''\n",
    "    for i in range(0, len(replaceFile), 1):\n",
    "        txt = txt + ' ' + (replaceFile.__getitem__(i))\n",
    "        if i % 200 == 0 and i != 0:\n",
    "            cur.execute(\n",
    "                'INSERT INTO \"C##PPAWLUK\".\"DOKUMENT\" (NAZWA_DOKUMENTU, TEKST) VALUES( \\'{}\\', \\'{}\\')'.format(\n",
    "                    nameDocuments[nr], txt))\n",
    "            cur.execute('commit')\n",
    "            txt = ''\n",
    "    if (txt != ''):\n",
    "        cur.execute(\n",
    "            'INSERT INTO \"C##PPAWLUK\".\"DOKUMENT\" (NAZWA_DOKUMENTU, TEKST) VALUES( \\'{}\\', \\'{}\\')'.format(\n",
    "                nameDocuments[nr], txt))\n",
    "        cur.execute('commit')"
   ]
  },
  {
   "cell_type": "code",
   "execution_count": 38,
   "metadata": {},
   "outputs": [],
   "source": [
    "for i in range(0, len(nameDocuments), 1):\n",
    "    pdfparser(\"D:\\BSpy\\!materiały na studia\\Praca inżynierska\\Implementacja\\PorownywanieDokumentow\\dokumenty\\{}\".format(\n",
    "        nameDocuments[i]), i)"
   ]
  },
  {
   "cell_type": "code",
   "execution_count": 39,
   "metadata": {},
   "outputs": [],
   "source": [
    "cur.close()"
   ]
  },
  {
   "cell_type": "code",
   "execution_count": 40,
   "metadata": {},
   "outputs": [],
   "source": [
    "connection.close()"
   ]
  },
  {
   "cell_type": "code",
   "execution_count": null,
   "metadata": {},
   "outputs": [],
   "source": []
  },
  {
   "cell_type": "code",
   "execution_count": null,
   "metadata": {},
   "outputs": [],
   "source": []
  }
 ],
 "metadata": {
  "kernelspec": {
   "display_name": "Python 3",
   "language": "python",
   "name": "python3"
  },
  "language_info": {
   "codemirror_mode": {
    "name": "ipython",
    "version": 3
   },
   "file_extension": ".py",
   "mimetype": "text/x-python",
   "name": "python",
   "nbconvert_exporter": "python",
   "pygments_lexer": "ipython3",
   "version": "3.7.0"
  }
 },
 "nbformat": 4,
 "nbformat_minor": 2
}
