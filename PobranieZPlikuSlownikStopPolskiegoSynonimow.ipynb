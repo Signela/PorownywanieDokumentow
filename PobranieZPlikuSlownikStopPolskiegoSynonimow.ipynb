{
 "cells": [
  {
   "cell_type": "code",
   "execution_count": 2,
   "metadata": {},
   "outputs": [],
   "source": [
    "import cx_Oracle\n",
    "import os\n",
    "import io"
   ]
  },
  {
   "cell_type": "code",
   "execution_count": 3,
   "metadata": {},
   "outputs": [],
   "source": [
    "os.environ[\"NLS_LANG\"] = \"POLISH_POLAND.AL32UTF8\"\n",
    "connection = cx_Oracle.connect(\"C##PPAWLUK\", \"#Lex2018\", \"144.21.89.60:1521/ORCL.591263988.oraclecloud.internal\")"
   ]
  },
  {
   "cell_type": "code",
   "execution_count": 4,
   "metadata": {},
   "outputs": [],
   "source": [
    "cur = connection.cursor()\n",
    "cur1 = connection.cursor()\n",
    "cur2 = connection.cursor()\n",
    "cur3 = connection.cursor()\n",
    "cur4 = connection.cursor()\n",
    "cur5 = connection.cursor()"
   ]
  },
  {
   "cell_type": "code",
   "execution_count": 5,
   "metadata": {},
   "outputs": [],
   "source": [
    "cur.execute('DELETE FROM \"C##PPAWLUK\".\"DOKUMENT\"')\n",
    "cur.execute('commit')"
   ]
  },
  {
   "cell_type": "code",
   "execution_count": 6,
   "metadata": {},
   "outputs": [],
   "source": [
    "nameDocuments = os.listdir(\"dokumenty\")"
   ]
  },
  {
   "cell_type": "code",
   "execution_count": 7,
   "metadata": {},
   "outputs": [],
   "source": [
    "def clearTxt(myfile):\n",
    "    myfile = myfile.replace('\\n', ' ').replace(',', '').replace('.', '').replace('!', '').replace('?', '').replace('/',\n",
    "                                                                                                                   '').replace(\n",
    "        '\\\\', '').replace(';', '').replace('\"', ' ').replace('\\'', ' ').replace(']', '').replace('[', '').replace(')',\n",
    "                                                                                                                  '').replace(\n",
    "        '(',\n",
    "        '').replace(\n",
    "        ':', '').replace('`', '').replace('@', '').replace('#', '').replace('$', '').replace('%', '').replace(\n",
    "        '^', '').replace('&', '').replace('*', '').replace('-', ' ').replace('_', ' ').replace('+', ' ').replace('=',\n",
    "                                                                                                                 ' ').replace(\n",
    "        '0', '').replace('1', '').replace('2', '').replace('3', '').replace('4', '').replace('5', '').replace('6',\n",
    "                                                                                                              '').replace(\n",
    "        '7', '').replace('8', '').replace('9', '').replace('>', ' ').replace('<', ' ').replace('{', '').replace('}',\n",
    "                                                                                                                '').replace(\n",
    "        '§', '').replace('\\\f",
    "', '').replace('\\\\ufeff', '').replace(' ', ' ').replace('–', ' ').replace('“', '').replace(\n",
    "        '„', '').replace('…', '').replace('\t', '').replace('’', ' ').replace('”', '').replace('  ', ' ').replace(\n",
    "        '  ', ' ')\n",
    "    return myfile"
   ]
  },
  {
   "cell_type": "code",
   "execution_count": 8,
   "metadata": {},
   "outputs": [],
   "source": [
    "def stopList(myfile):\n",
    "    replaceFile = myfile\n",
    "    for word in myfile:\n",
    "        stopword = cur1.execute(\n",
    "            'select STWORD from STOPWORDS where STWORD = \\'{}\\' and rownum=1'.format(\n",
    "                word))\n",
    "        for i in stopword:\n",
    "            replaceFile.remove(i[0])\n",
    "    removeTab = {'\t', '\\n', ''}\n",
    "    for remove in removeTab:\n",
    "        while (remove in replaceFile):\n",
    "            replaceFile.remove(remove)\n",
    "    return replaceFile"
   ]
  },
  {
   "cell_type": "code",
   "execution_count": 9,
   "metadata": {},
   "outputs": [],
   "source": [
    "def slowikPolskiego(replaceFile):\n",
    "    j = 0\n",
    "    for word in replaceFile:\n",
    "        dictionary = cur2.execute(\n",
    "            'select slow_forma_podstawowa from slownik where slow_wyraz = \\'{}\\' and rownum=1'.format(\n",
    "                word))\n",
    "        for i in dictionary:\n",
    "            replaceFile.__setitem__(j, i[0])\n",
    "            j = j + 1\n",
    "    return replaceFile\n"
   ]
  },
  {
   "cell_type": "code",
   "execution_count": 10,
   "metadata": {},
   "outputs": [],
   "source": [
    "def slowikSynonimow1(replaceFile):\n",
    "    j = 0\n",
    "    for word in replaceFile:\n",
    "        thesaurus = cur.execute(\n",
    "            'select slow_forma_podstawowa from slownik_synonimow where slow_wyraz = \\'{}\\' and slow_wyraz != slow_forma_podstawowa and rownum=1 '.format(\n",
    "                word))\n",
    "        for i in thesaurus:\n",
    "            replaceFile.__setitem__(j, i[0])\n",
    "            j = j + 1\n",
    "    return replaceFile"
   ]
  },
  {
   "cell_type": "code",
   "execution_count": 11,
   "metadata": {},
   "outputs": [],
   "source": [
    "def slowikSynonimow2(replaceFile):\n",
    "    j = 0\n",
    "    for word in replaceFile:\n",
    "        thesaurus = cur.execute(\n",
    "            'select slowo_podstawowe from synonimy_orginalne where (synonim1 = \\'{}\\' or synonim2 = \\'{}\\' or synonim3 = \\'{}\\' or synonim4 = \\'{}\\' or synonim5 = \\'{}\\' or synonim6 = \\'{}\\' or synonim7 = \\'{}\\' or synonim8 = \\'{}\\' or synonim9 = \\'{}\\' or synonim10 = \\'{}\\' or synonim11 = \\'{}\\' or synonim12 = \\'{}\\' or synonim13 = \\'{}\\' or synonim14 = \\'{}\\' or synonim15 = \\'{}\\' or synonim16 = \\'{}\\' or synonim17 = \\'{}\\' or synonim18 = \\'{}\\') and NOT EXISTS(select slowo_podstawowe from synonimy_orginalne where slowo_podstawowe = \\'{}\\') and rownum=1 '.format(\n",
    "                word,word,word,word,word,word,word,word,word,word,word,word,word,word,word,word,word,word,word))\n",
    "        for i in thesaurus:\n",
    "            replaceFile.__setitem__(j, i[0])\n",
    "            j = j + 1\n",
    "    return replaceFile"
   ]
  },
  {
   "cell_type": "code",
   "execution_count": 12,
   "metadata": {},
   "outputs": [],
   "source": [
    "def slowikSynonimow3(replaceFile):\n",
    "    j = 0\n",
    "    for word in replaceFile:\n",
    "        thesaurus = cur3.execute(\n",
    "            'select COLUMN1 from SYNONIMY2 where (COLUMN2 = \\'{}\\' or COLUMN3 = \\'{}\\' or COLUMN4 = \\'{}\\' or COLUMN5 = \\'{}\\' or COLUMN6 = \\'{}\\' or COLUMN7 = \\'{}\\' or COLUMN8 = \\'{}\\' or COLUMN9 = \\'{}\\' or COLUMN10 = \\'{}\\' or COLUMN11 = \\'{}\\' or COLUMN12 = \\'{}\\' or COLUMN13 = \\'{}\\' or COLUMN14 = \\'{}\\' or COLUMN15 = \\'{}\\' or COLUMN16 = \\'{}\\' or COLUMN17 = \\'{}\\' or COLUMN18 = \\'{}\\' or COLUMN19 = \\'{}\\' or COLUMN20 = \\'{}\\' or COLUMN21 = \\'{}\\' or COLUMN22 = \\'{}\\' or COLUMN23 = \\'{}\\' or COLUMN24 = \\'{}\\' or COLUMN25 = \\'{}\\' or COLUMN26 = \\'{}\\' or COLUMN27 = \\'{}\\' or COLUMN28 = \\'{}\\' or COLUMN29 = \\'{}\\' or COLUMN30 = \\'{}\\' or COLUMN31 = \\'{}\\' or COLUMN32 = \\'{}\\' or COLUMN33 = \\'{}\\' or COLUMN34 = \\'{}\\' or COLUMN35 = \\'{}\\' or COLUMN36 = \\'{}\\') and NOT EXISTS(select COLUMN1 from SYNONIMY2 where COLUMN1 = \\'{}\\') and rownum=1 '.format(\n",
    "                word,word,word,word,word,word,word,word,word,word,word,word,word,word,word,word,word,word,word,word,word,word,word,word,word,word,word,word,word,word,word,word,word,word,word,word))\n",
    "        for i in thesaurus:\n",
    "            print(\"zmieniam {} na {}\".format(word,i[0]))\n",
    "            replaceFile.__setitem__(j, i[0])\n",
    "            j = j + 1\n",
    "    return replaceFile"
   ]
  },
  {
   "cell_type": "code",
   "execution_count": 13,
   "metadata": {},
   "outputs": [],
   "source": [
    "def pdfparser(data, nr):\n",
    "    file = io.open(data, mode=\"r\", encoding='utf-8-sig')\n",
    "    myfile = file.read()\n",
    "    myfile = myfile.lower()\n",
    "    myfile = clearTxt(myfile)\n",
    "    myfile = myfile.split(' ')\n",
    "    replaceFile = stopList(myfile)\n",
    "    replaceFile = slowikPolskiego(replaceFile)\n",
    "    replaceFile = stopList(replaceFile)\n",
    "    replaceFile = slowikSynonimow3(replaceFile)\n",
    "    replaceFile = stopList(replaceFile)\n",
    "    txt = ''\n",
    "    for i in range(0, len(replaceFile), 1):\n",
    "        txt = txt + ' ' + (replaceFile.__getitem__(i))\n",
    "        if i % 200 == 0 and i != 0:\n",
    "            cur4.execute(\n",
    "                'INSERT INTO \"C##PPAWLUK\".\"DOKUMENT\" (NAZWA_DOKUMENTU, TEKST) VALUES( \\'{}\\', \\'{}\\')'.format(\n",
    "                    nameDocuments[nr], txt))\n",
    "            cur4.execute('commit')\n",
    "            txt = ''\n",
    "    if (txt != ''):\n",
    "        cur5.execute(\n",
    "            'INSERT INTO \"C##PPAWLUK\".\"DOKUMENT\" (NAZWA_DOKUMENTU, TEKST) VALUES( \\'{}\\', \\'{}\\')'.format(\n",
    "                nameDocuments[nr], txt))\n",
    "        cur5.execute('commit')"
   ]
  },
  {
   "cell_type": "code",
   "execution_count": 14,
   "metadata": {},
   "outputs": [
    {
     "name": "stdout",
     "output_type": "stream",
     "text": [
      "zmieniam rozpoznanie na identyfikacja\n",
      "zmieniam zbadanie na doświadczenie\n",
      "zmieniam zaskarżyć na skarga\n",
      "zmieniam to jest na mianowicie\n",
      "zmieniam zaskarżyć na skarga\n",
      "zmieniam niezgodny na antynomiczny\n",
      "zmieniam nadawanie na emisja\n",
      "zmieniam nadawanie na emisja\n",
      "zmieniam sygnałowy na alarmowy\n",
      "zmieniam obustronnie na wzajemnie\n",
      "zmieniam wzdłuż na nieopodal\n",
      "zmieniam stylizować na analogiczny\n",
      "zmieniam liście na listowie\n",
      "zmieniam powołanie na desygnacja\n",
      "zmieniam bycie na egzystencja\n",
      "zmieniam emblemat na awatar\n",
      "zmieniam rządowy na państwowy\n",
      "zmieniam gwintować na stukać\n",
      "zmieniam bycie na egzystencja\n",
      "zmieniam bycie na egzystencja\n",
      "zmieniam w zastępstwie na miast\n",
      "zmieniam wymaganie na klauzula\n",
      "zmieniam wymaganie na klauzula\n",
      "zmieniam cofnięcie na likwidacja\n",
      "zmieniam posiadanie na dostatek\n",
      "zmieniam prowadzenie na konferansjerka\n",
      "zmieniam wykorzystanie na manipulacja\n",
      "zmieniam stosowany na praktyczny\n",
      "zmieniam ustalenie na negocjacje\n",
      "zmieniam wliczać na liczyć\n",
      "zmieniam wymaganie na klauzula\n",
      "zmieniam marynarka na kamizelka\n",
      "zmieniam poczet na rodzina\n",
      "zmieniam posiadanie na dostatek\n",
      "zmieniam marynarka na kamizelka\n",
      "zmieniam seminarium na konferencja\n",
      "zmieniam trwanie na egzystencja\n",
      "zmieniam kształcenie na nauka\n",
      "zmieniam kształcenie na nauka\n",
      "zmieniam trwanie na egzystencja\n",
      "zmieniam oczekiwany na spodziewany\n",
      "zmieniam prowadzenie na konferansjerka\n",
      "zmieniam maić na przybierać\n",
      "zmieniam trakt na droga\n",
      "zmieniam trwanie na egzystencja\n",
      "zmieniam cofnięcie na likwidacja\n",
      "zmieniam w zastępstwie na miast\n",
      "zmieniam technik na akustyk\n",
      "zmieniam komputerowy na cybernetyczny\n",
      "zmieniam sieciowy na cybernetyczny\n",
      "zmieniam internet na Internet\n",
      "zmieniam oznakowanie na nazwa\n",
      "zmieniam cumować na wpływać\n",
      "zmieniam obliczenie na kalkulacja\n",
      "zmieniam współrzędna na namiar\n",
      "zmieniam prowadzenie na konferansjerka\n",
      "zmieniam prowadzenie na konferansjerka\n",
      "zmieniam pływ na ciek\n",
      "zmieniam pływ na ciek\n",
      "zmieniam oznaczenie na marka\n",
      "zmieniam komputerowy na cybernetyczny\n",
      "zmieniam sieciowy na cybernetyczny\n",
      "zmieniam internet na Internet\n",
      "zmieniam mechanik na naprawiacz\n",
      "zmieniam oznakowanie na nazwa\n",
      "zmieniam cumować na wpływać\n",
      "zmieniam pływ na ciek\n",
      "zmieniam technik na akustyk\n",
      "zmieniam prowadzenie na konferansjerka\n",
      "zmieniam prowadzenie na konferansjerka\n",
      "zmieniam oznaczenie na marka\n",
      "zmieniam marynarka na kamizelka\n",
      "zmieniam wymaganie na klauzula\n",
      "zmieniam marynarka na kamizelka\n",
      "zmieniam marynarka na kamizelka\n",
      "zmieniam wymaganie na klauzula\n",
      "zmieniam marynarka na kamizelka\n",
      "zmieniam rządowy na państwowy\n",
      "zmieniam wyszczególnienie na identyfikacja\n",
      "zmieniam zmniejszenie na minimalizacja\n",
      "zmieniam zwiększenie na intensyfikacja\n",
      "zmieniam rządowy na państwowy\n",
      "zmieniam świadczenie na benefit\n",
      "zmieniam rządowy na państwowy\n",
      "zmieniam świadczenie na benefit\n",
      "zmieniam wyszczególnienie na identyfikacja\n",
      "zmieniam zmniejszenie na minimalizacja\n",
      "zmieniam rządowy na państwowy\n",
      "zmieniam rządowy na państwowy\n",
      "zmieniam zwiększenie na intensyfikacja\n"
     ]
    }
   ],
   "source": [
    "for i in range(0, len(nameDocuments), 1):\n",
    "    pdfparser(\"D:\\BSpy\\!materiały na studia\\Praca inżynierska\\Implementacja\\PorownywanieDokumentow\\dokumenty\\{}\".format(\n",
    "        nameDocuments[i]), i)"
   ]
  },
  {
   "cell_type": "code",
   "execution_count": 15,
   "metadata": {},
   "outputs": [],
   "source": [
    "cur.close()\n",
    "cur1.close()\n",
    "cur2.close()\n",
    "cur3.close()\n",
    "cur4.close()\n",
    "cur5.close()"
   ]
  },
  {
   "cell_type": "code",
   "execution_count": 16,
   "metadata": {},
   "outputs": [],
   "source": [
    "connection.close()"
   ]
  },
  {
   "cell_type": "code",
   "execution_count": null,
   "metadata": {},
   "outputs": [],
   "source": []
  },
  {
   "cell_type": "code",
   "execution_count": null,
   "metadata": {},
   "outputs": [],
   "source": []
  }
 ],
 "metadata": {
  "kernelspec": {
   "display_name": "Python 3",
   "language": "python",
   "name": "python3"
  },
  "language_info": {
   "codemirror_mode": {
    "name": "ipython",
    "version": 3
   },
   "file_extension": ".py",
   "mimetype": "text/x-python",
   "name": "python",
   "nbconvert_exporter": "python",
   "pygments_lexer": "ipython3",
   "version": "3.7.0"
  }
 },
 "nbformat": 4,
 "nbformat_minor": 2
}
