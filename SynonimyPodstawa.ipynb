{
 "cells": [
  {
   "cell_type": "code",
   "execution_count": null,
   "metadata": {},
   "outputs": [],
   "source": [
    "import cx_Oracle\n",
    "import os"
   ]
  },
  {
   "cell_type": "code",
   "execution_count": null,
   "metadata": {},
   "outputs": [],
   "source": [
    "os.environ[\"NLS_LANG\"] = \"POLISH_POLAND.AL32UTF8\""
   ]
  },
  {
   "cell_type": "code",
   "execution_count": null,
   "metadata": {},
   "outputs": [],
   "source": [
    "os.environ[\"NLS_LANG\"] = \"POLISH_POLAND.AL32UTF8\"\n",
    "connection = cx_Oracle.connect(\"C##PPAWLUK\", \"#Lex2018\", \"144.21.89.60:1521/ORCL.591263988.oraclecloud.internal\")"
   ]
  },
  {
   "cell_type": "code",
   "execution_count": null,
   "metadata": {},
   "outputs": [],
   "source": [
    "cur = connection.cursor()\n",
    "cur1 = connection.cursor()\n",
    "cur2 = connection.cursor()"
   ]
  },
  {
   "cell_type": "code",
   "execution_count": null,
   "metadata": {},
   "outputs": [],
   "source": [
    "slownik_synonimow = cur.execute('select * from SYNONIMY_ORGINALNE');"
   ]
  },
  {
   "cell_type": "code",
   "execution_count": null,
   "metadata": {},
   "outputs": [],
   "source": [
    "naglowki = ['slowo_podstawowe', 'synonim1', 'synonim2', 'synonim3', 'synonim4', 'synonim5', 'synonim6', 'synonim7',\n",
    "            'synonim8', 'synonim9', 'synonim10', 'synonim11', 'synonim12', 'synonim13', 'synonim14', 'synonim15', 'synonim16',\n",
    "            'synonim17', 'synonim18', ]"
   ]
  },
  {
   "cell_type": "code",
   "execution_count": null,
   "metadata": {},
   "outputs": [],
   "source": [
    "for slowo in slownik_synonimow:\n",
    "    i = 0\n",
    "    for s in slowo:\n",
    "        slownikPolskiego = cur1.execute(\n",
    "            'select SLOW_FORMA_PODSTAWOWA from SLOWNIK where SLOW_WYRAZ = \\'{}\\' and rownum = 1'.format(s));\n",
    "        for word in slownikPolskiego:\n",
    "            print(\"Zmieniam {} na {} przy naglowku {}\".format(s,word[0],naglowki[i]))\n",
    "            cur2.execute('UPDATE synonimy_orginalne set {} = \\'{}\\' where {} = \\'{}\\''.format(naglowki[i],word[0],naglowki[i],s))\n",
    "            cur2.execute('commit')\n",
    "        i = i+1\n",
    "cur.execute('commit')\n",
    "cur1.execute('commit')"
   ]
  },
  {
   "cell_type": "code",
   "execution_count": null,
   "metadata": {},
   "outputs": [],
   "source": [
    "cur.close()\n",
    "cur1.close()\n",
    "cur2.close()"
   ]
  },
  {
   "cell_type": "code",
   "execution_count": null,
   "metadata": {},
   "outputs": [],
   "source": [
    "connection.close()"
   ]
  }
 ],
 "metadata": {
  "kernelspec": {
   "display_name": "Python 3",
   "language": "python",
   "name": "python3"
  },
  "language_info": {
   "codemirror_mode": {
    "name": "ipython",
    "version": 3
   },
   "file_extension": ".py",
   "mimetype": "text/x-python",
   "name": "python",
   "nbconvert_exporter": "python",
   "pygments_lexer": "ipython3",
   "version": "3.7.0"
  }
 },
 "nbformat": 4,
 "nbformat_minor": 2
}
