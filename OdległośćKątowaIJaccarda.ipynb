{
 "cells": [
  {
   "cell_type": "code",
   "execution_count": 11,
   "metadata": {},
   "outputs": [],
   "source": [
    "from math import sqrt\n",
    "import csv"
   ]
  },
  {
   "cell_type": "code",
   "execution_count": 12,
   "metadata": {},
   "outputs": [],
   "source": [
    "header = []\n",
    "words = []\n",
    "odlegloscKontowa = []\n",
    "odlegloscJaccarda = []"
   ]
  },
  {
   "cell_type": "code",
   "execution_count": 13,
   "metadata": {},
   "outputs": [
    {
     "name": "stdout",
     "output_type": "stream",
     "text": [
      "odlegloscKontowa\n",
      "[['D20181943.txt', 'D20181937.txt'], 0.8299311534666804]\n",
      "[['D20181943.txt', 'D20181947.txt'], 0.8404891769090872]\n",
      "[['D20181943.txt', 'D20181950.txt'], 0.6792170435750886]\n",
      "[['D20181937.txt', 'D20181947.txt'], 0.8319741263601002]\n",
      "[['D20181937.txt', 'D20181950.txt'], 0.8272675049109606]\n",
      "[['D20181947.txt', 'D20181950.txt'], 0.8365257348435737]\n",
      "odlegloscJaccarda\n",
      "[['D20181943.txt', 'D20181937.txt'], 0.9293026231605886]\n",
      "[['D20181943.txt', 'D20181947.txt'], 0.9305669679539852]\n",
      "[['D20181943.txt', 'D20181950.txt'], 0.827090200779143]\n",
      "[['D20181937.txt', 'D20181947.txt'], 0.9595497042549131]\n",
      "[['D20181937.txt', 'D20181950.txt'], 0.9106819553409776]\n",
      "[['D20181947.txt', 'D20181950.txt'], 0.9476242891212622]\n"
     ]
    }
   ],
   "source": [
    "f = open('Macierz.csv', 'r')\n",
    "with f:\n",
    "    csvreader = csv.reader(f, delimiter=';')\n",
    "    for i in csvreader:\n",
    "        for j in i:\n",
    "            header.append(j)\n",
    "        break\n",
    "    header.remove(header[0])\n",
    "    csvreader = csv.reader(f, delimiter=';')\n",
    "    for i in csvreader:\n",
    "        tab = []\n",
    "        for j in i:\n",
    "            tab.append(j)\n",
    "        word = tab[0]\n",
    "        tab.remove(word)\n",
    "        words.append([word,tab])\n",
    "    sumaIloczynow = []\n",
    "    sumaKwadratow =[]\n",
    "    relacjaPlikow = []\n",
    "    for i in words:\n",
    "        for j in range(0,i[1].__len__(),1):\n",
    "            for z in range(j+1,i[1].__len__(), 1):\n",
    "                sumaIloczynow.append(0)\n",
    "                relacjaPlikow.append([header[j],header[z]])\n",
    "            sumaKwadratow.append(0)\n",
    "        break\n",
    "    for i in words:\n",
    "        iterator =0\n",
    "        for j in range(0,i[1].__len__(),1):\n",
    "            sumaKwadratow[j] = int(i[1][j]) * int(i[1][j]) + int(sumaKwadratow[j])\n",
    "            for z in range(j+1, i[1].__len__(), 1):\n",
    "                sumaIloczynow[iterator] = int(i[1][j])*int(i[1][z])+int(sumaIloczynow[iterator])\n",
    "                iterator = iterator+1\n",
    "    pierwiastekIloczynowSumyKwadratow = []\n",
    "    mianownikJaccarda = []\n",
    "    for i in words:\n",
    "        iterator = 0\n",
    "        for j in range(0, i[1].__len__(), 1):\n",
    "            for z in range(j + 1, i[1].__len__(), 1):\n",
    "                pierwiastekIloczynowSumyKwadratow.append(sqrt(sumaKwadratow[j]*sumaKwadratow[z]))\n",
    "                mianownikJaccarda.append(sumaKwadratow[j]+sumaKwadratow[z]-sumaIloczynow[iterator])\n",
    "                iterator = iterator + 1\n",
    "        break\n",
    "    for i in range(0,relacjaPlikow.__len__(),1):\n",
    "        odlegloscKontowa.append([relacjaPlikow[i],1-(float(sumaIloczynow[i])/float(pierwiastekIloczynowSumyKwadratow[i]))])\n",
    "        odlegloscJaccarda.append([relacjaPlikow[i],1-(float(sumaIloczynow[i])/float(mianownikJaccarda[i]))])\n",
    "    print(\"odlegloscKontowa\")\n",
    "    for i in odlegloscKontowa:\n",
    "        print(i)\n",
    "    print(\"odlegloscJaccarda\")\n",
    "    for i in odlegloscJaccarda:\n",
    "        print(i)"
   ]
  },
  {
   "cell_type": "code",
   "execution_count": 14,
   "metadata": {},
   "outputs": [],
   "source": [
    "odlegloscK = open('OdlegloscK.csv', 'w', newline='')\n",
    "with odlegloscK:\n",
    "    fnames = ['Nazwa Pliku'] + header\n",
    "    writer = csv.DictWriter(odlegloscK, fieldnames=fnames, delimiter=';')\n",
    "    writer.writeheader()\n",
    "    tab = {}\n",
    "    for file in header:\n",
    "        tab.__setitem__('Nazwa Pliku',file)\n",
    "        for odleglosc in odlegloscKontowa:\n",
    "            if(odleglosc[0][0] == file):\n",
    "                tab.__setitem__(odleglosc[0][1], odleglosc[1])\n",
    "            elif (odleglosc[0][1] == file):\n",
    "                tab.__setitem__(odleglosc[0][0], odleglosc[1])\n",
    "        writer.writerow(tab)\n",
    "        tab.clear()\n",
    "        "
   ]
  },
  {
   "cell_type": "code",
   "execution_count": 15,
   "metadata": {},
   "outputs": [],
   "source": [
    "odlegloscJ = open('OdlegloscJ.csv', 'w', newline='')\n",
    "with odlegloscJ:\n",
    "    fnames = ['Nazwa Pliku'] + header\n",
    "    writer = csv.DictWriter(odlegloscJ, fieldnames=fnames, delimiter=';')\n",
    "    writer.writeheader()\n",
    "    tab = {}\n",
    "    for file in header:\n",
    "        tab.__setitem__('Nazwa Pliku',file)\n",
    "        for odleglosc in odlegloscJaccarda:\n",
    "            if(odleglosc[0][0] == file):\n",
    "                tab.__setitem__(odleglosc[0][1], odleglosc[1])\n",
    "            elif (odleglosc[0][1] == file):\n",
    "                tab.__setitem__(odleglosc[0][0], odleglosc[1])\n",
    "        writer.writerow(tab)\n",
    "        tab.clear()"
   ]
  },
  {
   "cell_type": "code",
   "execution_count": 16,
   "metadata": {},
   "outputs": [],
   "source": [
    "ProcentowePodobienstwoDokumentowK = open('ProcentowePodobienstwoDokumentowK.csv', 'w', newline='')\n",
    "with ProcentowePodobienstwoDokumentowK:\n",
    "    fnames = ['Nazwa Pliku'] + header\n",
    "    writer = csv.DictWriter(ProcentowePodobienstwoDokumentowK, fieldnames=fnames, delimiter=';')\n",
    "    writer.writeheader()\n",
    "    tab = {}\n",
    "    for file in header:\n",
    "        tab.__setitem__('Nazwa Pliku',file)\n",
    "        for odleglosc in odlegloscKontowa:\n",
    "            if(odleglosc[0][0] == file):\n",
    "                tab.__setitem__(odleglosc[0][1], 100*(1-odleglosc[1]))\n",
    "            elif (odleglosc[0][1] == file):\n",
    "                tab.__setitem__(odleglosc[0][0], 100*(1-odleglosc[1]))\n",
    "        writer.writerow(tab)\n",
    "        tab.clear()"
   ]
  },
  {
   "cell_type": "code",
   "execution_count": 17,
   "metadata": {},
   "outputs": [],
   "source": [
    "ProcentowePodobienstwoDokumentowJ = open('ProcentowePodobienstwoDokumentowJ.csv', 'w', newline='')\n",
    "with ProcentowePodobienstwoDokumentowJ:\n",
    "    fnames = ['Nazwa Pliku'] + header\n",
    "    writer = csv.DictWriter(ProcentowePodobienstwoDokumentowJ, fieldnames=fnames, delimiter=';')\n",
    "    writer.writeheader()\n",
    "    tab = {}\n",
    "    for file in header:\n",
    "        tab.__setitem__('Nazwa Pliku',file)\n",
    "        for odleglosc in odlegloscJaccarda:\n",
    "            if(odleglosc[0][0] == file):\n",
    "                tab.__setitem__(odleglosc[0][1], 100*(1-odleglosc[1]))\n",
    "            elif (odleglosc[0][1] == file):\n",
    "                tab.__setitem__(odleglosc[0][0], 100*(1-odleglosc[1]))\n",
    "        writer.writerow(tab)\n",
    "        tab.clear()"
   ]
  },
  {
   "cell_type": "code",
   "execution_count": 18,
   "metadata": {},
   "outputs": [
    {
     "name": "stdout",
     "output_type": "stream",
     "text": [
      "['Nazwa Pliku', 'D20181943.txt', 'D20181937.txt', 'D20181947.txt', 'D20181950.txt']\n",
      "['D20181943.txt', '', '17.006884653331955', '15.95108230909128', '32.07829564249114']\n",
      "['D20181937.txt', '17.006884653331955', '', '16.802587363989986', '17.273249508903945']\n",
      "['D20181947.txt', '15.95108230909128', '16.802587363989986', '', '16.347426515642628']\n",
      "['D20181950.txt', '32.07829564249114', '17.273249508903945', '16.347426515642628', '']\n"
     ]
    }
   ],
   "source": [
    "k = open('ProcentowePodobienstwoDokumentowK.csv', 'r')\n",
    "with k:\n",
    "    csvreader = csv.reader(k, delimiter=';')\n",
    "    for i in csvreader:\n",
    "        print(i)"
   ]
  },
  {
   "cell_type": "code",
   "execution_count": 19,
   "metadata": {},
   "outputs": [
    {
     "name": "stdout",
     "output_type": "stream",
     "text": [
      "['Nazwa Pliku', 'D20181943.txt', 'D20181937.txt', 'D20181947.txt', 'D20181950.txt']\n",
      "['D20181943.txt', '', '7.069737683941135', '6.943303204601481', '17.290979922085704']\n",
      "['D20181937.txt', '7.069737683941135', '', '4.0450295745086855', '8.931804465902237']\n",
      "['D20181947.txt', '6.943303204601481', '4.0450295745086855', '', '5.237571087873782']\n",
      "['D20181950.txt', '17.290979922085704', '8.931804465902237', '5.237571087873782', '']\n"
     ]
    }
   ],
   "source": [
    "j = open('ProcentowePodobienstwoDokumentowJ.csv', 'r')\n",
    "with j:\n",
    "    csvreader = csv.reader(j, delimiter=';')\n",
    "    for i in csvreader:\n",
    "        print(i)"
   ]
  },
  {
   "cell_type": "code",
   "execution_count": null,
   "metadata": {},
   "outputs": [],
   "source": []
  },
  {
   "cell_type": "code",
   "execution_count": null,
   "metadata": {},
   "outputs": [],
   "source": []
  }
 ],
 "metadata": {
  "kernelspec": {
   "display_name": "Python 3",
   "language": "python",
   "name": "python3"
  },
  "language_info": {
   "codemirror_mode": {
    "name": "ipython",
    "version": 3
   },
   "file_extension": ".py",
   "mimetype": "text/x-python",
   "name": "python",
   "nbconvert_exporter": "python",
   "pygments_lexer": "ipython3",
   "version": "3.7.0"
  }
 },
 "nbformat": 4,
 "nbformat_minor": 2
}
