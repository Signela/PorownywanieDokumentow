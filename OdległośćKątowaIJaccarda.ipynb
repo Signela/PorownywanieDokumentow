{
 "cells": [
  {
   "cell_type": "code",
   "execution_count": 1,
   "metadata": {},
   "outputs": [],
   "source": [
    "from math import sqrt\n",
    "import csv"
   ]
  },
  {
   "cell_type": "code",
   "execution_count": 2,
   "metadata": {},
   "outputs": [],
   "source": [
    "header = []\n",
    "words = []\n",
    "odlegloscKontowa = []\n",
    "odlegloscJaccarda = []"
   ]
  },
  {
   "cell_type": "code",
   "execution_count": 3,
   "metadata": {},
   "outputs": [
    {
     "name": "stdout",
     "output_type": "stream",
     "text": [
      "odlegloscKontowa\n",
      "[['D20181943.txt', 'D20181937.txt'], 0.8318778491295145]\n",
      "[['D20181943.txt', 'D20181947.txt'], 0.8396113968595442]\n",
      "[['D20181943.txt', 'D20181950.txt'], 0.6924163172848641]\n",
      "[['D20181937.txt', 'D20181947.txt'], 0.8324682183014556]\n",
      "[['D20181937.txt', 'D20181950.txt'], 0.8301792796660603]\n",
      "[['D20181947.txt', 'D20181950.txt'], 0.8387362583492607]\n"
     ]
    }
   ],
   "source": [
    "f = open('Macierz.csv', 'r')\n",
    "with f:\n",
    "    csvreader = csv.reader(f, delimiter=';')\n",
    "    for i in csvreader:\n",
    "        for j in i:\n",
    "            header.append(j)\n",
    "        break\n",
    "    header.remove(header[0])\n",
    "    csvreader = csv.reader(f, delimiter=';')\n",
    "    for i in csvreader:\n",
    "        tab = []\n",
    "        for j in i:\n",
    "            tab.append(j)\n",
    "        word = tab[0]\n",
    "        tab.remove(word)\n",
    "        words.append([word,tab])\n",
    "    sumaIloczynow = []\n",
    "    sumaKwadratow =[]\n",
    "    relacjaPlikow = []\n",
    "    for i in words:\n",
    "        for j in range(0,i[1].__len__(),1):\n",
    "            for z in range(j+1,i[1].__len__(), 1):\n",
    "                sumaIloczynow.append(0)\n",
    "                relacjaPlikow.append([header[j],header[z]])\n",
    "            sumaKwadratow.append(0)\n",
    "        break\n",
    "    for i in words:\n",
    "        iterator =0\n",
    "        for j in range(0,i[1].__len__(),1):\n",
    "            sumaKwadratow[j] = int(i[1][j]) * int(i[1][j]) + int(sumaKwadratow[j])\n",
    "            for z in range(j+1, i[1].__len__(), 1):\n",
    "                sumaIloczynow[iterator] = int(i[1][j])*int(i[1][z])+int(sumaIloczynow[iterator])\n",
    "                iterator = iterator+1\n",
    "    pierwiastekIloczynowSumyKwadratow = []\n",
    "    for i in words:\n",
    "        iterator = 0\n",
    "        for j in range(0, i[1].__len__(), 1):\n",
    "            for z in range(j + 1, i[1].__len__(), 1):\n",
    "                pierwiastekIloczynowSumyKwadratow.append(sqrt(sumaKwadratow[j]*sumaKwadratow[z]))\n",
    "                iterator = iterator + 1\n",
    "        break\n",
    "    for i in range(0,relacjaPlikow.__len__(),1):\n",
    "        odlegloscKontowa.append([relacjaPlikow[i],1-(float(sumaIloczynow[i])/float(pierwiastekIloczynowSumyKwadratow[i]))])\n",
    "    print(\"odlegloscKontowa\")\n",
    "    for i in odlegloscKontowa:\n",
    "        print(i)"
   ]
  },
  {
   "cell_type": "code",
   "execution_count": 4,
   "metadata": {},
   "outputs": [
    {
     "name": "stdout",
     "output_type": "stream",
     "text": [
      "odlegloscJaccarda\n",
      "[['D20181943.txt', 'D20181937.txt'], 0.94]\n",
      "[['D20181943.txt', 'D20181947.txt'], 0.9204545454545454]\n",
      "[['D20181943.txt', 'D20181950.txt'], 0.875]\n",
      "[['D20181937.txt', 'D20181947.txt'], 0.9661654135338346]\n",
      "[['D20181937.txt', 'D20181950.txt'], 0.91875]\n",
      "[['D20181947.txt', 'D20181950.txt'], 0.9369202226345084]\n"
     ]
    }
   ],
   "source": [
    "header = []\n",
    "words = []\n",
    "f = open('MacierzBinarna.csv', 'r')\n",
    "with f:\n",
    "    csvreader = csv.reader(f, delimiter=';')\n",
    "    for i in csvreader:\n",
    "        for j in i:\n",
    "            header.append(j)\n",
    "        break\n",
    "    header.remove(header[0])\n",
    "    csvreader = csv.reader(f, delimiter=';')\n",
    "    for i in csvreader:\n",
    "        tab = []\n",
    "        for j in i:\n",
    "            tab.append(j)\n",
    "        word = tab[0]\n",
    "        tab.remove(word)\n",
    "        words.append([word,tab])\n",
    "    sumaIloczynow = []\n",
    "    sumaKwadratow =[]\n",
    "    relacjaPlikow = []\n",
    "    for i in words:\n",
    "        for j in range(0,i[1].__len__(),1):\n",
    "            for z in range(j+1,i[1].__len__(), 1):\n",
    "                sumaIloczynow.append(0)\n",
    "                relacjaPlikow.append([header[j],header[z]])\n",
    "            sumaKwadratow.append(0)\n",
    "        break\n",
    "    for i in words:\n",
    "        iterator =0\n",
    "        for j in range(0,i[1].__len__(),1):\n",
    "            sumaKwadratow[j] = int(i[1][j]) * int(i[1][j]) + int(sumaKwadratow[j])\n",
    "            for z in range(j+1, i[1].__len__(), 1):\n",
    "                sumaIloczynow[iterator] = int(i[1][j])*int(i[1][z])+int(sumaIloczynow[iterator])\n",
    "                iterator = iterator+1\n",
    "    mianownikJaccarda = []\n",
    "    for i in words:\n",
    "        iterator = 0\n",
    "        for j in range(0, i[1].__len__(), 1):\n",
    "            for z in range(j + 1, i[1].__len__(), 1):\n",
    "                mianownikJaccarda.append(sumaKwadratow[j]+sumaKwadratow[z]-sumaIloczynow[iterator])\n",
    "                iterator = iterator + 1\n",
    "        break\n",
    "    for i in range(0,relacjaPlikow.__len__(),1):\n",
    "        odlegloscJaccarda.append([relacjaPlikow[i],1-(float(sumaIloczynow[i])/float(mianownikJaccarda[i]))])\n",
    "    print(\"odlegloscJaccarda\")\n",
    "    for i in odlegloscJaccarda:\n",
    "        print(i)"
   ]
  },
  {
   "cell_type": "code",
   "execution_count": 5,
   "metadata": {},
   "outputs": [],
   "source": [
    "odlegloscK = open('OdlegloscK.csv', 'w', newline='')\n",
    "with odlegloscK:\n",
    "    fnames = ['Nazwa Pliku'] + header\n",
    "    writer = csv.DictWriter(odlegloscK, fieldnames=fnames, delimiter=';')\n",
    "    writer.writeheader()\n",
    "    tab = {}\n",
    "    for file in header:\n",
    "        tab.__setitem__('Nazwa Pliku',file)\n",
    "        for odleglosc in odlegloscKontowa:\n",
    "            if(odleglosc[0][0] == file):\n",
    "                tab.__setitem__(odleglosc[0][1], odleglosc[1])\n",
    "            elif (odleglosc[0][1] == file):\n",
    "                tab.__setitem__(odleglosc[0][0], odleglosc[1])\n",
    "        writer.writerow(tab)\n",
    "        tab.clear()\n",
    "        "
   ]
  },
  {
   "cell_type": "code",
   "execution_count": 6,
   "metadata": {},
   "outputs": [],
   "source": [
    "odlegloscJ = open('OdlegloscJ.csv', 'w', newline='')\n",
    "with odlegloscJ:\n",
    "    fnames = ['Nazwa Pliku'] + header\n",
    "    writer = csv.DictWriter(odlegloscJ, fieldnames=fnames, delimiter=';')\n",
    "    writer.writeheader()\n",
    "    tab = {}\n",
    "    for file in header:\n",
    "        tab.__setitem__('Nazwa Pliku',file)\n",
    "        for odleglosc in odlegloscJaccarda:\n",
    "            if(odleglosc[0][0] == file):\n",
    "                tab.__setitem__(odleglosc[0][1], odleglosc[1])\n",
    "            elif (odleglosc[0][1] == file):\n",
    "                tab.__setitem__(odleglosc[0][0], odleglosc[1])\n",
    "        writer.writerow(tab)\n",
    "        tab.clear()"
   ]
  },
  {
   "cell_type": "code",
   "execution_count": 7,
   "metadata": {},
   "outputs": [],
   "source": [
    "ProcentowePodobienstwoDokumentowK = open('ProcentowePodobienstwoDokumentowK.csv', 'w', newline='')\n",
    "with ProcentowePodobienstwoDokumentowK:\n",
    "    fnames = ['Nazwa Pliku'] + header\n",
    "    writer = csv.DictWriter(ProcentowePodobienstwoDokumentowK, fieldnames=fnames, delimiter=';')\n",
    "    writer.writeheader()\n",
    "    tab = {}\n",
    "    for file in header:\n",
    "        tab.__setitem__('Nazwa Pliku',file)\n",
    "        for odleglosc in odlegloscKontowa:\n",
    "            if(odleglosc[0][0] == file):\n",
    "                tab.__setitem__(odleglosc[0][1], 100*(1-odleglosc[1]))\n",
    "            elif (odleglosc[0][1] == file):\n",
    "                tab.__setitem__(odleglosc[0][0], 100*(1-odleglosc[1]))\n",
    "        writer.writerow(tab)\n",
    "        tab.clear()"
   ]
  },
  {
   "cell_type": "code",
   "execution_count": 8,
   "metadata": {},
   "outputs": [],
   "source": [
    "ProcentowePodobienstwoDokumentowJ = open('ProcentowePodobienstwoDokumentowJ.csv', 'w', newline='')\n",
    "with ProcentowePodobienstwoDokumentowJ:\n",
    "    fnames = ['Nazwa Pliku'] + header\n",
    "    writer = csv.DictWriter(ProcentowePodobienstwoDokumentowJ, fieldnames=fnames, delimiter=';')\n",
    "    writer.writeheader()\n",
    "    tab = {}\n",
    "    for file in header:\n",
    "        tab.__setitem__('Nazwa Pliku',file)\n",
    "        for odleglosc in odlegloscJaccarda:\n",
    "            if(odleglosc[0][0] == file):\n",
    "                tab.__setitem__(odleglosc[0][1], 100*(1-odleglosc[1]))\n",
    "            elif (odleglosc[0][1] == file):\n",
    "                tab.__setitem__(odleglosc[0][0], 100*(1-odleglosc[1]))\n",
    "        writer.writerow(tab)\n",
    "        tab.clear()"
   ]
  },
  {
   "cell_type": "code",
   "execution_count": 9,
   "metadata": {},
   "outputs": [
    {
     "name": "stdout",
     "output_type": "stream",
     "text": [
      "['Nazwa Pliku', 'D20181943.txt', 'D20181937.txt', 'D20181947.txt', 'D20181950.txt']\n",
      "['D20181943.txt', '', '16.812215087048553', '16.03886031404558', '30.758368271513593']\n",
      "['D20181937.txt', '16.812215087048553', '', '16.753178169854444', '16.98207203339397']\n",
      "['D20181947.txt', '16.03886031404558', '16.753178169854444', '', '16.12637416507393']\n",
      "['D20181950.txt', '30.758368271513593', '16.98207203339397', '16.12637416507393', '']\n"
     ]
    }
   ],
   "source": [
    "k = open('ProcentowePodobienstwoDokumentowK.csv', 'r')\n",
    "with k:\n",
    "    csvreader = csv.reader(k, delimiter=';')\n",
    "    for i in csvreader:\n",
    "        print(i)"
   ]
  },
  {
   "cell_type": "code",
   "execution_count": 10,
   "metadata": {},
   "outputs": [
    {
     "name": "stdout",
     "output_type": "stream",
     "text": [
      "['Nazwa Pliku', 'D20181943.txt', 'D20181937.txt', 'D20181947.txt', 'D20181950.txt']\n",
      "['D20181943.txt', '', '6.000000000000005', '7.954545454545459', '12.5']\n",
      "['D20181937.txt', '6.000000000000005', '', '3.383458646616544', '8.125000000000004']\n",
      "['D20181947.txt', '7.954545454545459', '3.383458646616544', '', '6.307977736549164']\n",
      "['D20181950.txt', '12.5', '8.125000000000004', '6.307977736549164', '']\n"
     ]
    }
   ],
   "source": [
    "j = open('ProcentowePodobienstwoDokumentowJ.csv', 'r')\n",
    "with j:\n",
    "    csvreader = csv.reader(j, delimiter=';')\n",
    "    for i in csvreader:\n",
    "        print(i)"
   ]
  },
  {
   "cell_type": "code",
   "execution_count": null,
   "metadata": {},
   "outputs": [],
   "source": []
  },
  {
   "cell_type": "code",
   "execution_count": null,
   "metadata": {},
   "outputs": [],
   "source": []
  }
 ],
 "metadata": {
  "kernelspec": {
   "display_name": "Python 3",
   "language": "python",
   "name": "python3"
  },
  "language_info": {
   "codemirror_mode": {
    "name": "ipython",
    "version": 3
   },
   "file_extension": ".py",
   "mimetype": "text/x-python",
   "name": "python",
   "nbconvert_exporter": "python",
   "pygments_lexer": "ipython3",
   "version": "3.7.0"
  }
 },
 "nbformat": 4,
 "nbformat_minor": 2
}
