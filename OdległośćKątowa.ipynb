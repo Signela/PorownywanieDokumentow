{
 "cells": [
  {
   "cell_type": "code",
   "execution_count": 33,
   "metadata": {},
   "outputs": [],
   "source": [
    "import cx_Oracle\n",
    "import os\n",
    "import csv\n",
    "from operator import itemgetter, attrgetter\n",
    "from math import sqrt"
   ]
  },
  {
   "cell_type": "code",
   "execution_count": 34,
   "metadata": {},
   "outputs": [],
   "source": [
    "os.environ[\"NLS_LANG\"] = \"POLISH_POLAND.AL32UTF8\"\n",
    "connection = cx_Oracle.connect(\"C##PPAWLUK\", \"#Lex2018\", \"144.21.89.60:1521/ORCL.591263988.oraclecloud.internal\")"
   ]
  },
  {
   "cell_type": "code",
   "execution_count": 35,
   "metadata": {},
   "outputs": [],
   "source": [
    "cur = connection.cursor()"
   ]
  },
  {
   "cell_type": "code",
   "execution_count": 36,
   "metadata": {},
   "outputs": [
    {
     "name": "stdout",
     "output_type": "stream",
     "text": [
      "['D20181943.txt', 'D20181937.txt', 'D20181947.txt', 'D20181950.txt']\n",
      "6\n",
      "[221, 845, 577, 424, 148, 571]\n",
      "[2728, 619, 10283, 1186]\n",
      "[1299.473739634626, 5296.416146792093, 1798.723992167781, 2522.9302408112676, 856.8161996601139, 3492.225365007247]\n",
      "[['D20181943.txt', 'D20181937.txt'], ['D20181943.txt', 'D20181947.txt'], ['D20181943.txt', 'D20181950.txt'], ['D20181937.txt', 'D20181947.txt'], ['D20181937.txt', 'D20181950.txt'], ['D20181947.txt', 'D20181950.txt']]\n",
      "[[['D20181943.txt', 'D20181937.txt'], 0.1700688465333195], [['D20181943.txt', 'D20181947.txt'], 0.15954184425477885], [['D20181943.txt', 'D20181950.txt'], 0.3207829564249114], [['D20181937.txt', 'D20181947.txt'], 0.16805855078405163], [['D20181937.txt', 'D20181950.txt'], 0.17273249508903937], [['D20181947.txt', 'D20181950.txt'], 0.16350605711805632]]\n"
     ]
    }
   ],
   "source": [
    "f = open('Macierz.csv', 'r')\n",
    "header = []\n",
    "words = []\n",
    "with f:\n",
    "    csvreader = csv.reader(f, delimiter=';')\n",
    "    for i in csvreader:\n",
    "        for j in i:\n",
    "            header.append(j)\n",
    "        break\n",
    "    header.remove(header[0])\n",
    "    print(header)\n",
    "    next(f)\n",
    "    csvreader = csv.reader(f, delimiter=';')\n",
    "    for i in csvreader:\n",
    "        tab = []\n",
    "        for j in i:\n",
    "            tab.append(j)\n",
    "        word = tab[0]\n",
    "        tab.remove(word)\n",
    "        words.append([word,tab])\n",
    "    sumaIloczynow = []\n",
    "    sumaKwadratow =[]\n",
    "    relacjaPlikow = []\n",
    "    for i in words:\n",
    "        for j in range(0,i[1].__len__(),1):\n",
    "            for z in range(j+1,i[1].__len__(), 1):\n",
    "                sumaIloczynow.append(0)\n",
    "                relacjaPlikow.append([header[j],header[z]])\n",
    "            sumaKwadratow.append(0)\n",
    "        break\n",
    "    print(sumaIloczynow.__len__())\n",
    "    for i in words:\n",
    "        iterator =0\n",
    "        for j in range(0,i[1].__len__(),1):\n",
    "            sumaKwadratow[j] = int(i[1][j]) * int(i[1][j]) + int(sumaKwadratow[j])\n",
    "            for z in range(j+1, i[1].__len__(), 1):\n",
    "                sumaIloczynow[iterator] = int(i[1][j])*int(i[1][z])+int(sumaIloczynow[iterator])\n",
    "                iterator = iterator+1\n",
    "    print(sumaIloczynow)\n",
    "    print(sumaKwadratow)\n",
    "    pierwiastekIloczynowSumyKwadratow = []\n",
    "    for i in words:\n",
    "        iterator = 0\n",
    "        for j in range(0, i[1].__len__(), 1):\n",
    "            for z in range(j + 1, i[1].__len__(), 1):\n",
    "                pierwiastekIloczynowSumyKwadratow.append(sqrt(sumaKwadratow[j]*sumaKwadratow[z]))\n",
    "        break\n",
    "    print(pierwiastekIloczynowSumyKwadratow)\n",
    "    print(relacjaPlikow)\n",
    "    odlegloscKontowa = []\n",
    "    for i in range(0,relacjaPlikow.__len__(),1):\n",
    "        odlegloscKontowa.append([relacjaPlikow[i],(float(sumaIloczynow[i])/float(pierwiastekIloczynowSumyKwadratow[i]))])\n",
    "    print(odlegloscKontowa)\n",
    "        "
   ]
  },
  {
   "cell_type": "code",
   "execution_count": null,
   "metadata": {},
   "outputs": [],
   "source": []
  },
  {
   "cell_type": "code",
   "execution_count": null,
   "metadata": {},
   "outputs": [],
   "source": []
  },
  {
   "cell_type": "code",
   "execution_count": 37,
   "metadata": {},
   "outputs": [],
   "source": [
    "cur.close()\n",
    "connection.close()"
   ]
  },
  {
   "cell_type": "code",
   "execution_count": null,
   "metadata": {},
   "outputs": [],
   "source": []
  }
 ],
 "metadata": {
  "kernelspec": {
   "display_name": "Python 3",
   "language": "python",
   "name": "python3"
  },
  "language_info": {
   "codemirror_mode": {
    "name": "ipython",
    "version": 3
   },
   "file_extension": ".py",
   "mimetype": "text/x-python",
   "name": "python",
   "nbconvert_exporter": "python",
   "pygments_lexer": "ipython3",
   "version": "3.7.0"
  }
 },
 "nbformat": 4,
 "nbformat_minor": 2
}
