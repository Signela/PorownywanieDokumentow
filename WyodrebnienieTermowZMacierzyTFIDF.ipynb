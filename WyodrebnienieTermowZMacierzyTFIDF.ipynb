{
 "cells": [
  {
   "cell_type": "code",
   "execution_count": 17,
   "metadata": {},
   "outputs": [],
   "source": [
    "import cx_Oracle\n",
    "import os\n",
    "import csv\n",
    "from operator import itemgetter, attrgetter"
   ]
  },
  {
   "cell_type": "code",
   "execution_count": 18,
   "metadata": {},
   "outputs": [],
   "source": [
    "# os.environ[\"NLS_LANG\"] = \"POLISH_POLAND.AL32UTF8\"\n",
    "# connection = cx_Oracle.connect(\"C##PPAWLUK\", \"#Lex2018\", \"144.21.89.60:1521/ORCL.591263988.oraclecloud.internal\")\n",
    "os.environ[\"NLS_LANG\"] = \"POLISH_POLAND.AL32UTF8\"\n",
    "connection = cx_Oracle.connect(\"SYSTEM\", \"Cytryna96\", \"localhost:1521/ORCL\")"
   ]
  },
  {
   "cell_type": "code",
   "execution_count": 19,
   "metadata": {},
   "outputs": [],
   "source": [
    "cur = connection.cursor()"
   ]
  },
  {
   "cell_type": "code",
   "execution_count": 20,
   "metadata": {},
   "outputs": [],
   "source": [
    "cur.execute('DELETE FROM \"SYSTEM\".\"TERM_TF_IDF\"')\n",
    "cur.execute('commit')"
   ]
  },
  {
   "cell_type": "code",
   "execution_count": 21,
   "metadata": {},
   "outputs": [],
   "source": [
    "terms = []\n",
    "f = open('TFIDF.csv', 'r')\n",
    "with f:\n",
    "    csvreader = csv.reader(f, delimiter=';')\n",
    "    words = []\n",
    "    headers = []\n",
    "    for i in csvreader:\n",
    "        for j in i:\n",
    "            headers.append(j)\n",
    "        break\n",
    "    headers.remove(headers[0])\n",
    "    csvreader = csv.reader(f, delimiter=';')\n",
    "    for i in csvreader:\n",
    "        tab = []\n",
    "        for j in i:\n",
    "            tab.append(j)\n",
    "        word = tab[0]\n",
    "        tab.remove(word)\n",
    "        words.append([word,tab])\n",
    "    for headerNum in range(0,len(headers),1):\n",
    "        term = []\n",
    "        for w in words:\n",
    "            term.append([w[0],w[1][headerNum]])\n",
    "        matrix = sorted(term,key=lambda k: k[1], reverse=True)\n",
    "        i=0\n",
    "        termy = \"\"\n",
    "        for m in matrix:\n",
    "            terms.append([headers[headerNum],m[0]])\n",
    "            i=i+1\n",
    "            termy = termy + m[0] + \", \"\n",
    "            if(i==15):\n",
    "                cur.execute('INSERT INTO \"SYSTEM\".\"TERM_TF_IDF\" (NAZWA_DOKUMENTU, TERM) VALUES( \\'{}\\', \\'{}\\')'.format(headers[headerNum],termy))\n",
    "                cur.execute('commit')\n",
    "                break;        "
   ]
  },
  {
   "cell_type": "code",
   "execution_count": 22,
   "metadata": {},
   "outputs": [
    {
     "name": "stdout",
     "output_type": "stream",
     "text": [
      "['D20181943.txt', 'centymetr']\n",
      "['D20181943.txt', 'strona']\n",
      "['D20181943.txt', 'kolor']\n",
      "['D20181943.txt', 'płat']\n",
      "['D20181943.txt', 'wewnętrzny']\n",
      "['D20181943.txt', 'godło']\n",
      "['D20181943.txt', 'drzewce']\n",
      "['D20181943.txt', 'główny']\n",
      "['D20181943.txt', 'odwrotny']\n",
      "['D20181943.txt', 'pożarny']\n",
      "['D20181943.txt', 'sprawa']\n",
      "['D20181943.txt', 'straż']\n",
      "['D20181943.txt', 'szerokość']\n",
      "['D20181943.txt', 'państwowy']\n",
      "['D20181943.txt', 'długość']\n",
      "['D20181937.txt', 'postępowanie']\n",
      "['D20181937.txt', 'karny']\n",
      "['D20181937.txt', 'kodeks']\n",
      "['D20181937.txt', 'konstytucyjny']\n",
      "['D20181937.txt', 'trybunał']\n",
      "['D20181937.txt', 'artykuł']\n",
      "['D20181937.txt', 'czerwiec']\n",
      "['D20181937.txt', 'skarga']\n",
      "['D20181937.txt', 'tuleja']\n",
      "['D20181937.txt', 'dopuszczalność']\n",
      "['D20181937.txt', 'jednogłośnie']\n",
      "['D20181937.txt', 'konstytucja']\n",
      "['D20181937.txt', 'listopad']\n",
      "['D20181937.txt', 'odnosić']\n",
      "['D20181937.txt', 'oskarżyciel']\n",
      "['D20181947.txt', 'dana']\n",
      "['D20181947.txt', 'pomiar']\n",
      "['D20181947.txt', 'szef']\n",
      "['D20181947.txt', 'instytucja']\n",
      "['D20181947.txt', 'ośrodek']\n",
      "['D20181947.txt', 'program']\n",
      "['D20181947.txt', 'przedmiot']\n",
      "['D20181947.txt', 'morze']\n",
      "['D20181947.txt', 'praca']\n",
      "['D20181947.txt', 'uznanie']\n",
      "['D20181947.txt', 'wykonywać']\n",
      "['D20181947.txt', 'pomiarowy']\n",
      "['D20181947.txt', 'praktyk']\n",
      "['D20181947.txt', 'bezpieczeństwo']\n",
      "['D20181947.txt', 'organizacja']\n",
      "['D20181950.txt', 'wydatek']\n",
      "['D20181950.txt', 'budżet']\n",
      "['D20181950.txt', 'państwo']\n",
      "['D20181950.txt', 'przeniesienie']\n",
      "['D20181950.txt', 'kwota']\n",
      "['D20181950.txt', 'wynagrodzenie']\n",
      "['D20181950.txt', 'wynagrodzić']\n",
      "['D20181950.txt', 'budownictwo']\n",
      "['D20181950.txt', 'centralne']\n",
      "['D20181950.txt', 'cywilny']\n",
      "['D20181950.txt', 'członek']\n",
      "['D20181950.txt', 'fundusz']\n",
      "['D20181950.txt', 'informatyzacja']\n",
      "['D20181950.txt', 'korpus']\n",
      "['D20181950.txt', 'mieszkalnictwo']\n"
     ]
    }
   ],
   "source": [
    "for m in terms:\n",
    "    print(m)\n",
    "myHeader = ['plik']\n",
    "for i in range(1,16,1):\n",
    "    myHeader.append('słowo'+' '+str(i))\n",
    "f = open('TFIDF_Termy.csv', 'w', newline='')\n",
    "with f:\n",
    "    writer = csv.DictWriter(f, fieldnames=myHeader,delimiter=';')\n",
    "    writer.writeheader()\n",
    "    matrix = []\n",
    "    for h in headers:\n",
    "        i=0\n",
    "        tab = {}\n",
    "        tab.__setitem__('plik',h)\n",
    "        for m in terms:\n",
    "            if(h==m[0]):\n",
    "                i=i+1\n",
    "                tab.__setitem__('słowo'+' '+str(i),m[1])\n",
    "        writer.writerow(tab)\n",
    "        tab.clear()"
   ]
  },
  {
   "cell_type": "code",
   "execution_count": 23,
   "metadata": {},
   "outputs": [],
   "source": [
    "cur.execute('commit')"
   ]
  },
  {
   "cell_type": "code",
   "execution_count": 24,
   "metadata": {},
   "outputs": [],
   "source": [
    "cur.close()\n",
    "connection.close()"
   ]
  },
  {
   "cell_type": "code",
   "execution_count": null,
   "metadata": {},
   "outputs": [],
   "source": [
    "\n",
    "   "
   ]
  },
  {
   "cell_type": "code",
   "execution_count": null,
   "metadata": {},
   "outputs": [],
   "source": []
  }
 ],
 "metadata": {
  "kernelspec": {
   "display_name": "Python 3",
   "language": "python",
   "name": "python3"
  },
  "language_info": {
   "codemirror_mode": {
    "name": "ipython",
    "version": 3
   },
   "file_extension": ".py",
   "mimetype": "text/x-python",
   "name": "python",
   "nbconvert_exporter": "python",
   "pygments_lexer": "ipython3",
   "version": "3.7.0"
  }
 },
 "nbformat": 4,
 "nbformat_minor": 2
}
