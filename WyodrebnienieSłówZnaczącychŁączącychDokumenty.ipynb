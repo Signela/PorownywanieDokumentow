{
 "cells": [
  {
   "cell_type": "code",
   "execution_count": 1,
   "metadata": {},
   "outputs": [],
   "source": [
    "import os\n",
    "import csv\n",
    "from operator import itemgetter, attrgetter"
   ]
  },
  {
   "cell_type": "code",
   "execution_count": 2,
   "metadata": {},
   "outputs": [
    {
     "name": "stdout",
     "output_type": "stream",
     "text": [
      "['D20181943.txt', 'centymetr', 'strona', 'płat', 'wewnętrzny', 'godło', 'kolor', 'drzewce', 'główny', 'kolorz', 'odwrotny', 'pożarny', 'sprawa', 'straż', 'szerokość', 'złota']\n",
      "['D20181947.txt', 'dana', 'pomiar', 'szef', 'instytucja', 'ośrodek', 'program', 'przedmiot', 'morze', 'praca', 'uznanie', 'wykonywać', 'pomiarowy', 'praktyk', 'bezpieczeństwo', 'organizacja']\n",
      "['D20181950.txt', 'wynagrodzenie', 'wydatek', 'budżet', 'państwo', 'przeniesienie', 'kwota', 'budownictwo', 'centralne', 'cywilny', 'członka', 'fundusz', 'informatyzacja', 'korpus', 'mieszkalnictwo', 'naczelna']\n",
      "['D20181937.txt', 'postępowanie', 'karny', 'kodeks', 'konstytucyjny', 'trybunał', 'arta', 'czerwiec', 'jędrzejewski', 'kieres', 'pszczółkowski', 'skarga', 'tryba', 'tuleja', 'dopuszczalność', 'konstytucja']\n"
     ]
    }
   ],
   "source": [
    "terms = []\n",
    "f = open('TFIDF_TERMY.csv', 'r')\n",
    "with f:\n",
    "    csvreader = csv.reader(f, delimiter=';')\n",
    "    next(f)\n",
    "    for i in csvreader:\n",
    "        terms.append(i)\n",
    "for j in terms:\n",
    "    print(j)"
   ]
  },
  {
   "cell_type": "code",
   "execution_count": 3,
   "metadata": {},
   "outputs": [],
   "source": [
    "words = []\n",
    "f = open('TFIDF.csv', 'r')\n",
    "with f:\n",
    "    csvreader = csv.reader(f, delimiter=';')\n",
    "    headers = []\n",
    "    for i in csvreader:\n",
    "        for j in i:\n",
    "            headers.append(j)\n",
    "        break\n",
    "    headers.remove(headers[0])\n",
    "    csvreader = csv.reader(f, delimiter=';')\n",
    "    for i in csvreader:\n",
    "        words.append(i)"
   ]
  },
  {
   "cell_type": "code",
   "execution_count": 4,
   "metadata": {},
   "outputs": [],
   "source": [
    "myHeader = ['pliki']\n",
    "for i in range(1,16,1):\n",
    "    myHeader.append('słowo'+' '+str(i))"
   ]
  },
  {
   "cell_type": "code",
   "execution_count": 5,
   "metadata": {},
   "outputs": [
    {
     "name": "stdout",
     "output_type": "stream",
     "text": [
      "{'pliki': 'D20181943.txt,D20181947.txt'}\n",
      "w to  sprawa  t to  sprawa  wartosc w to  0.3010299956639812\n",
      "{'pliki': 'D20181943.txt,D20181950.txt', 'słowo 1': 'sprawa'}\n",
      "{'pliki': 'D20181943.txt,D20181937.txt'}\n",
      "{'pliki': 'D20181947.txt,D20181943.txt'}\n",
      "w to  praca  t to  praca  wartosc w to  0.6020599913279624\n",
      "{'pliki': 'D20181947.txt,D20181950.txt', 'słowo 1': 'praca'}\n",
      "w to  organizacja  t to  organizacja  wartosc w to  0.6020599913279624\n",
      "{'pliki': 'D20181947.txt,D20181937.txt', 'słowo 1': 'organizacja'}\n",
      "{'pliki': 'D20181950.txt,D20181943.txt'}\n",
      "{'pliki': 'D20181950.txt,D20181947.txt'}\n",
      "{'pliki': 'D20181950.txt,D20181937.txt'}\n",
      "{'pliki': 'D20181937.txt,D20181943.txt'}\n",
      "w to  arta  t to  arta  wartosc w to  1.2041199826559248\n",
      "{'pliki': 'D20181937.txt,D20181947.txt', 'słowo 1': 'arta'}\n",
      "{'pliki': 'D20181937.txt,D20181950.txt'}\n"
     ]
    }
   ],
   "source": [
    "f = open('WspolneTermy.csv', 'w', newline='')\n",
    "with f:\n",
    "    fnames = myHeader\n",
    "    writer = csv.DictWriter(f, fieldnames=fnames,delimiter=';')\n",
    "    writer.writeheader()\n",
    "    matrix = []\n",
    "    tab = {}\n",
    "    for term in terms:\n",
    "        for h in headers:\n",
    "            if(term[0]!=h):\n",
    "                tab.__setitem__('pliki',term[0]+','+h)\n",
    "                i=0\n",
    "                for w in words:\n",
    "                    for t in term:\n",
    "                        if(t==w[0] and float(w[headers.index(h)+1])>0.0):\n",
    "                            print(\"w to \",w[0],\" t to \",t,\" wartosc w to \",w[headers.index(h)+1])\n",
    "                            i=i+1\n",
    "                            tab.__setitem__('słowo'+' '+str(i),w[0])\n",
    "                print(tab)\n",
    "                if(len(tab)!=1):\n",
    "                    writer.writerow(tab)\n",
    "                tab.clear()"
   ]
  },
  {
   "cell_type": "code",
   "execution_count": 6,
   "metadata": {},
   "outputs": [
    {
     "name": "stdout",
     "output_type": "stream",
     "text": [
      "k  ['D20181947.txt', 'D20181937.txt']  tab1  ['D20181937.txt', 'D20181947.txt']  tab2  ['D20181937.txt', 'D20181947.txt']\n",
      "['D20181943.txt,D20181950.txt', 'sprawa', '', '', '', '', '', '', '', '', '', '', '', '', '', '']\n",
      "['D20181947.txt,D20181950.txt', 'praca', '', '', '', '', '', '', '', '', '', '', '', '', '', '']\n",
      "['D20181947.txt,D20181937.txt', 'organizacja', 'arta', '', '', '', '', '', '', '', '', '', '', '', '', '']\n"
     ]
    }
   ],
   "source": [
    "words = []\n",
    "write = []\n",
    "writes = []\n",
    "f = open('WspolneTermy.csv', 'r')\n",
    "with f:\n",
    "    csvreader = csv.reader(f, delimiter=';')\n",
    "    headers = []\n",
    "    for i in csvreader:\n",
    "        for j in i:\n",
    "            headers.append(j)\n",
    "        break\n",
    "    headers.remove(headers[0])\n",
    "    csvreader = csv.reader(f, delimiter=';')\n",
    "    for i in csvreader:\n",
    "        words.append(i)\n",
    "    for w1 in words:\n",
    "        flag = True\n",
    "        for w2 in words:\n",
    "            tab1 = w1[0].split(',')\n",
    "            tab2 = w2[0].split(',')\n",
    "            if(tab1[0]==tab2[1] and tab1[1]==tab2[0]):\n",
    "                flag = False\n",
    "                write.append(w1[0])\n",
    "                for w in w1:\n",
    "                    if(w!= w1[0]):\n",
    "                        write.append(w)\n",
    "                for w in w2:\n",
    "                    if(w!= w2[0] and (w not in write)):\n",
    "                        if '' in write:\n",
    "                            write.__setitem__(write.index(''),w)\n",
    "                        else:\n",
    "                            write.append(w)\n",
    "        if(flag==False):\n",
    "            tab1 = write[0].split(',')\n",
    "            flag2=True\n",
    "            for k in writes:\n",
    "                k1 = k[0].split(',')\n",
    "                if((k1[0]==tab1[0] and k1[1]==tab1[1]) or (k1[0]==tab1[1] and k1[1]==tab1[0])):\n",
    "                    print(\"k \",k1,\" tab1 \",tab1,\" tab2 \",tab2)\n",
    "                    flag2=False\n",
    "            if(flag2):\n",
    "                writes.append(write)\n",
    "        else:\n",
    "            writes.append(w1)\n",
    "        write = []\n",
    "for w in writes:\n",
    "    print(w)          "
   ]
  },
  {
   "cell_type": "code",
   "execution_count": 7,
   "metadata": {},
   "outputs": [],
   "source": [
    "myHeader = ['pliki']\n",
    "for i in range(1,31,1):\n",
    "    myHeader.append('słowo'+' '+str(i))"
   ]
  },
  {
   "cell_type": "code",
   "execution_count": 8,
   "metadata": {},
   "outputs": [
    {
     "name": "stdout",
     "output_type": "stream",
     "text": [
      "{'pliki': 'D20181943.txt,D20181950.txt', 'słowo 1': 'sprawa', 'słowo 2': '', 'słowo 3': '', 'słowo 4': '', 'słowo 5': '', 'słowo 6': '', 'słowo 7': '', 'słowo 8': '', 'słowo 9': '', 'słowo 10': '', 'słowo 11': '', 'słowo 12': '', 'słowo 13': '', 'słowo 14': '', 'słowo 15': ''}\n",
      "{'pliki': 'D20181947.txt,D20181950.txt', 'słowo 1': 'praca', 'słowo 2': '', 'słowo 3': '', 'słowo 4': '', 'słowo 5': '', 'słowo 6': '', 'słowo 7': '', 'słowo 8': '', 'słowo 9': '', 'słowo 10': '', 'słowo 11': '', 'słowo 12': '', 'słowo 13': '', 'słowo 14': '', 'słowo 15': ''}\n",
      "{'pliki': 'D20181947.txt,D20181937.txt', 'słowo 1': 'organizacja', 'słowo 2': 'arta', 'słowo 3': '', 'słowo 4': '', 'słowo 5': '', 'słowo 6': '', 'słowo 7': '', 'słowo 8': '', 'słowo 9': '', 'słowo 10': '', 'słowo 11': '', 'słowo 12': '', 'słowo 13': '', 'słowo 14': '', 'słowo 15': ''}\n"
     ]
    }
   ],
   "source": [
    "f = open('WspolneTermyBezPowtorzen.csv', 'w', newline='')\n",
    "with f:\n",
    "    fnames = myHeader\n",
    "    writer = csv.DictWriter(f, fieldnames=fnames,delimiter=';')\n",
    "    writer.writeheader()\n",
    "    matrix = []\n",
    "    tab = {}\n",
    "    for term in writes:\n",
    "        tab.__setitem__('pliki',term[0])\n",
    "        for i in range(1,len(term),1):\n",
    "            tab.__setitem__('słowo'+' '+str(i),term[i])\n",
    "        print(tab)\n",
    "        writer.writerow(tab)\n",
    "        tab.clear()"
   ]
  },
  {
   "cell_type": "code",
   "execution_count": null,
   "metadata": {},
   "outputs": [],
   "source": []
  },
  {
   "cell_type": "code",
   "execution_count": null,
   "metadata": {},
   "outputs": [],
   "source": []
  },
  {
   "cell_type": "code",
   "execution_count": null,
   "metadata": {},
   "outputs": [],
   "source": []
  }
 ],
 "metadata": {
  "kernelspec": {
   "display_name": "Python 3",
   "language": "python",
   "name": "python3"
  },
  "language_info": {
   "codemirror_mode": {
    "name": "ipython",
    "version": 3
   },
   "file_extension": ".py",
   "mimetype": "text/x-python",
   "name": "python",
   "nbconvert_exporter": "python",
   "pygments_lexer": "ipython3",
   "version": "3.7.0"
  }
 },
 "nbformat": 4,
 "nbformat_minor": 2
}
